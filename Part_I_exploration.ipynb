{
 "cells": [
  {
   "cell_type": "markdown",
   "metadata": {},
   "source": [
    "## Part-I (Dataset Exploration: Loan Data from Prosper)\n",
    "### by (Meshari Althubaiti)"
   ]
  },
  {
   "cell_type": "markdown",
   "metadata": {},
   "source": [
    "__________________"
   ]
  },
  {
   "cell_type": "markdown",
   "metadata": {},
   "source": [
    "# Table of Contents:"
   ]
  },
  {
   "cell_type": "markdown",
   "metadata": {},
   "source": [
    "* [Introduction](#Introduction)\n",
    "\n",
    "\n",
    "* [Importing Data and Libraries](#Importing_Data_and_Libraries)\n",
    "\n",
    "\n",
    "* [Preliminary Wrangling](#Preliminary_Wrangling)\n",
    "\n",
    "    \n",
    "* [Univariate Exploration](#Univariate_Exploration)\n",
    "\n",
    "    - [Borrower Rate](#1)\n",
    "    - [Loan Original Amount](#2)\n",
    "    - [Total Prosper Loans](#3)\n",
    "    - [Owning Home](#4)\n",
    "    - [Loan Term](#5)\n",
    "    - [Loan Status (no past due dates)](#6)\n",
    "    - [Employment Status](#7)\n",
    "    - [Employment Status Duration](#8)\n",
    "\n",
    "\n",
    "* [Bivariate Exploration](#Bivariate_Exploration)\n",
    "\n",
    "    - [Employment Status & Owning Home](#9)\n",
    "    - [Loan Original Amount vs. Monthly Loan Payment](#10)\n",
    "    - [Term & Borrower Rate](#11)\n",
    "    - [Loan Status & Total Prosper Loans](#12)\n",
    "    - [Owning Home & Loan Reason](#13)\n",
    "\n",
    "\n",
    "* [Multivariate Exploration](#Multivariate_Exploration)\n",
    "\n",
    "    - [Borrower Rate vs. Loan Original Amount & Employment Status Duration](#14)\n",
    "    - [Loan Status vs. Employment Status & Loan Term](#15)\n",
    "\n",
    "\n",
    "* [Conclusions](#Conclusions)\n",
    "\n",
    "\n",
    "* [Reference List](#Reference_List)"
   ]
  },
  {
   "cell_type": "markdown",
   "metadata": {},
   "source": [
    "______________________________"
   ]
  },
  {
   "cell_type": "markdown",
   "metadata": {},
   "source": [
    "<a id='Introduction'></a>\n",
    "# <font color=\"red\">Introduction</font>\n",
    "\n",
    "In Part I of this project (Communicate Data Findings), the dataset that will be explored is \"Prosper Loan Data.\"\n",
    "This data is about loans that were given by Prosper. The file includes information about loan amount, borrower rate (or interest rate), current loan status, borrower income, etc."
   ]
  },
  {
   "cell_type": "markdown",
   "metadata": {},
   "source": [
    "____________________________"
   ]
  },
  {
   "cell_type": "markdown",
   "metadata": {},
   "source": [
    "<a id='Importing_Data_and_Libraries'></a>\n",
    "# <font color=\"red\">Importing Data and Libraries</font>"
   ]
  },
  {
   "cell_type": "code",
   "execution_count": 1,
   "metadata": {},
   "outputs": [],
   "source": [
    "# import all packages and set plots to be embedded inline.\n",
    "\n",
    "import numpy as np\n",
    "import pandas as pd\n",
    "import matplotlib.pyplot as plt\n",
    "from matplotlib import rcParams\n",
    "import seaborn as sb\n",
    "%matplotlib inline\n",
    "from ipywidgets import interactive"
   ]
  },
  {
   "cell_type": "code",
   "execution_count": 2,
   "metadata": {},
   "outputs": [],
   "source": [
    "# Loading and reading the dataset: \n",
    "pld = pd.read_csv('prosperLoanData.csv')  # pld = prosper Loan Data"
   ]
  },
  {
   "cell_type": "markdown",
   "metadata": {},
   "source": [
    "___________________"
   ]
  },
  {
   "cell_type": "markdown",
   "metadata": {},
   "source": [
    "<a id='Preliminary_Wrangling'></a>\n",
    "# <font color=\"red\">Preliminary Wrangling</font>\n"
   ]
  },
  {
   "cell_type": "markdown",
   "metadata": {},
   "source": [
    "* This dataset contains 81 columns (variables). Only those that are related to this analysis will be selected, as follows:"
   ]
  },
  {
   "cell_type": "code",
   "execution_count": 3,
   "metadata": {},
   "outputs": [],
   "source": [
    "loans = pld[['ListingNumber', 'BorrowerRate','EmploymentStatus', 'EmploymentStatusDuration', 'StatedMonthlyIncome',\n",
    "             'IsBorrowerHomeowner', 'ListingCategory (numeric)', 'LoanOriginalAmount',\n",
    "             'Term', 'MonthlyLoanPayment', 'TotalProsperLoans',\n",
    "              'LoanStatus']]"
   ]
  },
  {
   "cell_type": "markdown",
   "metadata": {},
   "source": [
    "  "
   ]
  },
  {
   "cell_type": "markdown",
   "metadata": {},
   "source": [
    "* Features Description:"
   ]
  },
  {
   "cell_type": "markdown",
   "metadata": {},
   "source": [
    "1- BorrowerRate: This loan's interest rate for the borrower. \n",
    "\n",
    "2- EmploymentStatus: The employment status of the borrower at the time they posted the listing.\n",
    "\n",
    "3- IsBorrowerHomeowner: A Borrower will be classified as a homowner if they have a mortgage on their credit profile or provide        documentation confirming they are a homeowner.\n",
    "\n",
    "4- EmploymentStatusDuration: The length in months of the employment status at the time the listing was created.\n",
    "\n",
    "5- StatedMonthlyIncome: The monthly income the borrower stated at the time the listing was created.\n",
    "\n",
    "6- LoanStatus: The current status of the loan: `Cancelled`,  `Chargedoff`, `Completed`, `Current`, `Defaulted`, `FinalPaymentInProgress`, `PastDue`. The PastDue status will be accompanied by a delinquency bucket.\n",
    "\n",
    "7- TotalProsperLoans: Number of Prosper loans the borrower at the time they created this listing. This value will be null if the    borrower had no prior loans. \n",
    "\n",
    "8- TotalProsperPaymentsBilled: Number of on time payments the borrower made on Prosper loans at the time they created this        listing. This value will be null if the borrower had no prior loans.\n",
    "\n",
    "9- Term: The length of the loan expressed in months.\n",
    "\n",
    "10- ListingCategory (numeric): The category of the listing that the borrower selected when posting their listing: `0` - Not Available, `1` - Debt Consolidation, `2` - Home Improvement, `3` - Business, `4` - Personal Loan, `5` - Student Use, `6` - Auto, `7`- Other, `8` - Baby&Adoption, `9` - Boat, `10` - Cosmetic Procedure, `11` - Engagement Ring, `12` - Green Loans, `13` - Household Expenses, `14` - Large Purchases, `15` - Medical/Dental, `16` - Motorcycle, `17` - RV, `18` - Taxes, `19` - Vacation, `20` - Wedding Loans\n",
    "\n",
    "11- Occupation: The Occupation selected by the Borrower at the time they created the listing.\n",
    "\n",
    "12- LoanOriginalAmount: The origination amount of the loan.\n",
    "\n",
    "13- MonthlyLoanPayment: The scheduled monthly loan payment."
   ]
  },
  {
   "cell_type": "markdown",
   "metadata": {},
   "source": [
    "> The sub-dataframe (loans) will need to be cleaned and organised first in order to visualise the data properly."
   ]
  },
  {
   "cell_type": "markdown",
   "metadata": {},
   "source": [
    "* Visual assessment:"
   ]
  },
  {
   "cell_type": "code",
   "execution_count": 4,
   "metadata": {},
   "outputs": [
    {
     "data": {
      "text/html": [
       "<div>\n",
       "<style scoped>\n",
       "    .dataframe tbody tr th:only-of-type {\n",
       "        vertical-align: middle;\n",
       "    }\n",
       "\n",
       "    .dataframe tbody tr th {\n",
       "        vertical-align: top;\n",
       "    }\n",
       "\n",
       "    .dataframe thead th {\n",
       "        text-align: right;\n",
       "    }\n",
       "</style>\n",
       "<table border=\"1\" class=\"dataframe\">\n",
       "  <thead>\n",
       "    <tr style=\"text-align: right;\">\n",
       "      <th></th>\n",
       "      <th>ListingNumber</th>\n",
       "      <th>BorrowerRate</th>\n",
       "      <th>EmploymentStatus</th>\n",
       "      <th>EmploymentStatusDuration</th>\n",
       "      <th>StatedMonthlyIncome</th>\n",
       "      <th>IsBorrowerHomeowner</th>\n",
       "      <th>ListingCategory (numeric)</th>\n",
       "      <th>LoanOriginalAmount</th>\n",
       "      <th>Term</th>\n",
       "      <th>MonthlyLoanPayment</th>\n",
       "      <th>TotalProsperLoans</th>\n",
       "      <th>LoanStatus</th>\n",
       "    </tr>\n",
       "  </thead>\n",
       "  <tbody>\n",
       "    <tr>\n",
       "      <th>0</th>\n",
       "      <td>193129</td>\n",
       "      <td>0.1580</td>\n",
       "      <td>Self-employed</td>\n",
       "      <td>2.0</td>\n",
       "      <td>3083.333333</td>\n",
       "      <td>True</td>\n",
       "      <td>0</td>\n",
       "      <td>9425</td>\n",
       "      <td>36</td>\n",
       "      <td>330.43</td>\n",
       "      <td>NaN</td>\n",
       "      <td>Completed</td>\n",
       "    </tr>\n",
       "    <tr>\n",
       "      <th>1</th>\n",
       "      <td>1209647</td>\n",
       "      <td>0.0920</td>\n",
       "      <td>Employed</td>\n",
       "      <td>44.0</td>\n",
       "      <td>6125.000000</td>\n",
       "      <td>False</td>\n",
       "      <td>2</td>\n",
       "      <td>10000</td>\n",
       "      <td>36</td>\n",
       "      <td>318.93</td>\n",
       "      <td>NaN</td>\n",
       "      <td>Current</td>\n",
       "    </tr>\n",
       "    <tr>\n",
       "      <th>2</th>\n",
       "      <td>81716</td>\n",
       "      <td>0.2750</td>\n",
       "      <td>Not available</td>\n",
       "      <td>NaN</td>\n",
       "      <td>2083.333333</td>\n",
       "      <td>False</td>\n",
       "      <td>0</td>\n",
       "      <td>3001</td>\n",
       "      <td>36</td>\n",
       "      <td>123.32</td>\n",
       "      <td>NaN</td>\n",
       "      <td>Completed</td>\n",
       "    </tr>\n",
       "    <tr>\n",
       "      <th>3</th>\n",
       "      <td>658116</td>\n",
       "      <td>0.0974</td>\n",
       "      <td>Employed</td>\n",
       "      <td>113.0</td>\n",
       "      <td>2875.000000</td>\n",
       "      <td>True</td>\n",
       "      <td>16</td>\n",
       "      <td>10000</td>\n",
       "      <td>36</td>\n",
       "      <td>321.45</td>\n",
       "      <td>NaN</td>\n",
       "      <td>Current</td>\n",
       "    </tr>\n",
       "    <tr>\n",
       "      <th>4</th>\n",
       "      <td>909464</td>\n",
       "      <td>0.2085</td>\n",
       "      <td>Employed</td>\n",
       "      <td>44.0</td>\n",
       "      <td>9583.333333</td>\n",
       "      <td>True</td>\n",
       "      <td>2</td>\n",
       "      <td>15000</td>\n",
       "      <td>36</td>\n",
       "      <td>563.97</td>\n",
       "      <td>1.0</td>\n",
       "      <td>Current</td>\n",
       "    </tr>\n",
       "    <tr>\n",
       "      <th>5</th>\n",
       "      <td>1074836</td>\n",
       "      <td>0.1314</td>\n",
       "      <td>Employed</td>\n",
       "      <td>82.0</td>\n",
       "      <td>8333.333333</td>\n",
       "      <td>True</td>\n",
       "      <td>1</td>\n",
       "      <td>15000</td>\n",
       "      <td>60</td>\n",
       "      <td>342.37</td>\n",
       "      <td>NaN</td>\n",
       "      <td>Current</td>\n",
       "    </tr>\n",
       "    <tr>\n",
       "      <th>6</th>\n",
       "      <td>750899</td>\n",
       "      <td>0.2712</td>\n",
       "      <td>Employed</td>\n",
       "      <td>172.0</td>\n",
       "      <td>2083.333333</td>\n",
       "      <td>False</td>\n",
       "      <td>1</td>\n",
       "      <td>3000</td>\n",
       "      <td>36</td>\n",
       "      <td>122.67</td>\n",
       "      <td>NaN</td>\n",
       "      <td>Current</td>\n",
       "    </tr>\n",
       "    <tr>\n",
       "      <th>7</th>\n",
       "      <td>768193</td>\n",
       "      <td>0.2019</td>\n",
       "      <td>Employed</td>\n",
       "      <td>103.0</td>\n",
       "      <td>3355.750000</td>\n",
       "      <td>False</td>\n",
       "      <td>2</td>\n",
       "      <td>10000</td>\n",
       "      <td>36</td>\n",
       "      <td>372.60</td>\n",
       "      <td>NaN</td>\n",
       "      <td>Current</td>\n",
       "    </tr>\n",
       "    <tr>\n",
       "      <th>8</th>\n",
       "      <td>1023355</td>\n",
       "      <td>0.0629</td>\n",
       "      <td>Employed</td>\n",
       "      <td>269.0</td>\n",
       "      <td>3333.333333</td>\n",
       "      <td>True</td>\n",
       "      <td>7</td>\n",
       "      <td>10000</td>\n",
       "      <td>36</td>\n",
       "      <td>305.54</td>\n",
       "      <td>NaN</td>\n",
       "      <td>Current</td>\n",
       "    </tr>\n",
       "    <tr>\n",
       "      <th>9</th>\n",
       "      <td>1023355</td>\n",
       "      <td>0.0629</td>\n",
       "      <td>Employed</td>\n",
       "      <td>269.0</td>\n",
       "      <td>3333.333333</td>\n",
       "      <td>True</td>\n",
       "      <td>7</td>\n",
       "      <td>10000</td>\n",
       "      <td>36</td>\n",
       "      <td>305.54</td>\n",
       "      <td>NaN</td>\n",
       "      <td>Current</td>\n",
       "    </tr>\n",
       "    <tr>\n",
       "      <th>10</th>\n",
       "      <td>587746</td>\n",
       "      <td>0.2489</td>\n",
       "      <td>Employed</td>\n",
       "      <td>300.0</td>\n",
       "      <td>7500.000000</td>\n",
       "      <td>False</td>\n",
       "      <td>1</td>\n",
       "      <td>13500</td>\n",
       "      <td>60</td>\n",
       "      <td>395.37</td>\n",
       "      <td>NaN</td>\n",
       "      <td>Current</td>\n",
       "    </tr>\n",
       "    <tr>\n",
       "      <th>11</th>\n",
       "      <td>213551</td>\n",
       "      <td>0.1325</td>\n",
       "      <td>Full-time</td>\n",
       "      <td>19.0</td>\n",
       "      <td>1666.666667</td>\n",
       "      <td>False</td>\n",
       "      <td>0</td>\n",
       "      <td>1000</td>\n",
       "      <td>36</td>\n",
       "      <td>33.81</td>\n",
       "      <td>NaN</td>\n",
       "      <td>Completed</td>\n",
       "    </tr>\n",
       "    <tr>\n",
       "      <th>12</th>\n",
       "      <td>1081604</td>\n",
       "      <td>0.1435</td>\n",
       "      <td>Employed</td>\n",
       "      <td>1.0</td>\n",
       "      <td>2416.666667</td>\n",
       "      <td>False</td>\n",
       "      <td>1</td>\n",
       "      <td>4000</td>\n",
       "      <td>36</td>\n",
       "      <td>137.39</td>\n",
       "      <td>NaN</td>\n",
       "      <td>Past Due (1-15 days)</td>\n",
       "    </tr>\n",
       "    <tr>\n",
       "      <th>13</th>\n",
       "      <td>840820</td>\n",
       "      <td>0.1034</td>\n",
       "      <td>Employed</td>\n",
       "      <td>98.0</td>\n",
       "      <td>5833.333333</td>\n",
       "      <td>True</td>\n",
       "      <td>1</td>\n",
       "      <td>8500</td>\n",
       "      <td>36</td>\n",
       "      <td>275.63</td>\n",
       "      <td>NaN</td>\n",
       "      <td>Current</td>\n",
       "    </tr>\n",
       "    <tr>\n",
       "      <th>14</th>\n",
       "      <td>757359</td>\n",
       "      <td>0.0949</td>\n",
       "      <td>Employed</td>\n",
       "      <td>35.0</td>\n",
       "      <td>10833.333333</td>\n",
       "      <td>False</td>\n",
       "      <td>1</td>\n",
       "      <td>19330</td>\n",
       "      <td>60</td>\n",
       "      <td>415.37</td>\n",
       "      <td>NaN</td>\n",
       "      <td>Current</td>\n",
       "    </tr>\n",
       "    <tr>\n",
       "      <th>15</th>\n",
       "      <td>577164</td>\n",
       "      <td>0.3177</td>\n",
       "      <td>Other</td>\n",
       "      <td>121.0</td>\n",
       "      <td>5500.000000</td>\n",
       "      <td>True</td>\n",
       "      <td>13</td>\n",
       "      <td>4000</td>\n",
       "      <td>36</td>\n",
       "      <td>173.71</td>\n",
       "      <td>NaN</td>\n",
       "      <td>Defaulted</td>\n",
       "    </tr>\n",
       "    <tr>\n",
       "      <th>16</th>\n",
       "      <td>841846</td>\n",
       "      <td>0.2809</td>\n",
       "      <td>Full-time</td>\n",
       "      <td>133.0</td>\n",
       "      <td>8291.666667</td>\n",
       "      <td>True</td>\n",
       "      <td>6</td>\n",
       "      <td>4000</td>\n",
       "      <td>60</td>\n",
       "      <td>124.76</td>\n",
       "      <td>3.0</td>\n",
       "      <td>Current</td>\n",
       "    </tr>\n",
       "    <tr>\n",
       "      <th>17</th>\n",
       "      <td>31540</td>\n",
       "      <td>0.1250</td>\n",
       "      <td>Not available</td>\n",
       "      <td>NaN</td>\n",
       "      <td>5833.333333</td>\n",
       "      <td>True</td>\n",
       "      <td>0</td>\n",
       "      <td>10000</td>\n",
       "      <td>36</td>\n",
       "      <td>334.54</td>\n",
       "      <td>NaN</td>\n",
       "      <td>Chargedoff</td>\n",
       "    </tr>\n",
       "    <tr>\n",
       "      <th>18</th>\n",
       "      <td>716058</td>\n",
       "      <td>0.0974</td>\n",
       "      <td>Employed</td>\n",
       "      <td>179.0</td>\n",
       "      <td>6250.000000</td>\n",
       "      <td>False</td>\n",
       "      <td>1</td>\n",
       "      <td>15000</td>\n",
       "      <td>36</td>\n",
       "      <td>482.18</td>\n",
       "      <td>NaN</td>\n",
       "      <td>Current</td>\n",
       "    </tr>\n",
       "    <tr>\n",
       "      <th>19</th>\n",
       "      <td>875565</td>\n",
       "      <td>0.2225</td>\n",
       "      <td>Employed</td>\n",
       "      <td>18.0</td>\n",
       "      <td>3075.000000</td>\n",
       "      <td>False</td>\n",
       "      <td>1</td>\n",
       "      <td>6500</td>\n",
       "      <td>60</td>\n",
       "      <td>180.45</td>\n",
       "      <td>1.0</td>\n",
       "      <td>Current</td>\n",
       "    </tr>\n",
       "    <tr>\n",
       "      <th>20</th>\n",
       "      <td>1011916</td>\n",
       "      <td>0.1314</td>\n",
       "      <td>Employed</td>\n",
       "      <td>175.0</td>\n",
       "      <td>5166.666667</td>\n",
       "      <td>True</td>\n",
       "      <td>1</td>\n",
       "      <td>14000</td>\n",
       "      <td>36</td>\n",
       "      <td>472.66</td>\n",
       "      <td>NaN</td>\n",
       "      <td>Current</td>\n",
       "    </tr>\n",
       "    <tr>\n",
       "      <th>21</th>\n",
       "      <td>241498</td>\n",
       "      <td>0.2075</td>\n",
       "      <td>Full-time</td>\n",
       "      <td>36.0</td>\n",
       "      <td>3750.000000</td>\n",
       "      <td>False</td>\n",
       "      <td>0</td>\n",
       "      <td>3000</td>\n",
       "      <td>36</td>\n",
       "      <td>112.64</td>\n",
       "      <td>NaN</td>\n",
       "      <td>Completed</td>\n",
       "    </tr>\n",
       "    <tr>\n",
       "      <th>22</th>\n",
       "      <td>706927</td>\n",
       "      <td>0.3134</td>\n",
       "      <td>Other</td>\n",
       "      <td>68.0</td>\n",
       "      <td>118.333333</td>\n",
       "      <td>False</td>\n",
       "      <td>1</td>\n",
       "      <td>4000</td>\n",
       "      <td>36</td>\n",
       "      <td>172.76</td>\n",
       "      <td>NaN</td>\n",
       "      <td>Current</td>\n",
       "    </tr>\n",
       "    <tr>\n",
       "      <th>23</th>\n",
       "      <td>758964</td>\n",
       "      <td>0.2419</td>\n",
       "      <td>Employed</td>\n",
       "      <td>3.0</td>\n",
       "      <td>2500.000000</td>\n",
       "      <td>False</td>\n",
       "      <td>15</td>\n",
       "      <td>2000</td>\n",
       "      <td>36</td>\n",
       "      <td>78.67</td>\n",
       "      <td>NaN</td>\n",
       "      <td>Defaulted</td>\n",
       "    </tr>\n",
       "    <tr>\n",
       "      <th>24</th>\n",
       "      <td>1046345</td>\n",
       "      <td>0.1620</td>\n",
       "      <td>Employed</td>\n",
       "      <td>91.0</td>\n",
       "      <td>2333.333333</td>\n",
       "      <td>True</td>\n",
       "      <td>1</td>\n",
       "      <td>4000</td>\n",
       "      <td>36</td>\n",
       "      <td>141.02</td>\n",
       "      <td>NaN</td>\n",
       "      <td>Current</td>\n",
       "    </tr>\n",
       "    <tr>\n",
       "      <th>25</th>\n",
       "      <td>950067</td>\n",
       "      <td>0.2629</td>\n",
       "      <td>Employed</td>\n",
       "      <td>15.0</td>\n",
       "      <td>6974.000000</td>\n",
       "      <td>False</td>\n",
       "      <td>15</td>\n",
       "      <td>4000</td>\n",
       "      <td>36</td>\n",
       "      <td>161.78</td>\n",
       "      <td>NaN</td>\n",
       "      <td>Current</td>\n",
       "    </tr>\n",
       "    <tr>\n",
       "      <th>26</th>\n",
       "      <td>713131</td>\n",
       "      <td>0.2809</td>\n",
       "      <td>Employed</td>\n",
       "      <td>25.0</td>\n",
       "      <td>3885.916667</td>\n",
       "      <td>False</td>\n",
       "      <td>1</td>\n",
       "      <td>4000</td>\n",
       "      <td>60</td>\n",
       "      <td>124.76</td>\n",
       "      <td>NaN</td>\n",
       "      <td>Completed</td>\n",
       "    </tr>\n",
       "    <tr>\n",
       "      <th>27</th>\n",
       "      <td>463083</td>\n",
       "      <td>0.0920</td>\n",
       "      <td>Full-time</td>\n",
       "      <td>10.0</td>\n",
       "      <td>6666.666667</td>\n",
       "      <td>True</td>\n",
       "      <td>1</td>\n",
       "      <td>4000</td>\n",
       "      <td>36</td>\n",
       "      <td>0.00</td>\n",
       "      <td>NaN</td>\n",
       "      <td>Completed</td>\n",
       "    </tr>\n",
       "    <tr>\n",
       "      <th>28</th>\n",
       "      <td>989519</td>\n",
       "      <td>0.1660</td>\n",
       "      <td>Employed</td>\n",
       "      <td>48.0</td>\n",
       "      <td>3600.000000</td>\n",
       "      <td>True</td>\n",
       "      <td>2</td>\n",
       "      <td>10000</td>\n",
       "      <td>36</td>\n",
       "      <td>354.54</td>\n",
       "      <td>NaN</td>\n",
       "      <td>Current</td>\n",
       "    </tr>\n",
       "    <tr>\n",
       "      <th>29</th>\n",
       "      <td>1051243</td>\n",
       "      <td>0.1239</td>\n",
       "      <td>Employed</td>\n",
       "      <td>16.0</td>\n",
       "      <td>10416.666667</td>\n",
       "      <td>True</td>\n",
       "      <td>1</td>\n",
       "      <td>35000</td>\n",
       "      <td>36</td>\n",
       "      <td>1169.03</td>\n",
       "      <td>NaN</td>\n",
       "      <td>Current</td>\n",
       "    </tr>\n",
       "    <tr>\n",
       "      <th>30</th>\n",
       "      <td>555213</td>\n",
       "      <td>0.0999</td>\n",
       "      <td>Employed</td>\n",
       "      <td>44.0</td>\n",
       "      <td>3750.000000</td>\n",
       "      <td>False</td>\n",
       "      <td>20</td>\n",
       "      <td>10000</td>\n",
       "      <td>36</td>\n",
       "      <td>322.62</td>\n",
       "      <td>NaN</td>\n",
       "      <td>Completed</td>\n",
       "    </tr>\n",
       "    <tr>\n",
       "      <th>31</th>\n",
       "      <td>643927</td>\n",
       "      <td>0.3177</td>\n",
       "      <td>Other</td>\n",
       "      <td>44.0</td>\n",
       "      <td>2250.000000</td>\n",
       "      <td>False</td>\n",
       "      <td>2</td>\n",
       "      <td>2000</td>\n",
       "      <td>36</td>\n",
       "      <td>86.85</td>\n",
       "      <td>NaN</td>\n",
       "      <td>Current</td>\n",
       "    </tr>\n",
       "    <tr>\n",
       "      <th>32</th>\n",
       "      <td>1132356</td>\n",
       "      <td>0.1274</td>\n",
       "      <td>Employed</td>\n",
       "      <td>269.0</td>\n",
       "      <td>7000.000000</td>\n",
       "      <td>True</td>\n",
       "      <td>1</td>\n",
       "      <td>25000</td>\n",
       "      <td>36</td>\n",
       "      <td>839.22</td>\n",
       "      <td>NaN</td>\n",
       "      <td>Current</td>\n",
       "    </tr>\n",
       "    <tr>\n",
       "      <th>33</th>\n",
       "      <td>478891</td>\n",
       "      <td>0.0785</td>\n",
       "      <td>Employed</td>\n",
       "      <td>7.0</td>\n",
       "      <td>13083.333333</td>\n",
       "      <td>False</td>\n",
       "      <td>7</td>\n",
       "      <td>16000</td>\n",
       "      <td>36</td>\n",
       "      <td>500.28</td>\n",
       "      <td>1.0</td>\n",
       "      <td>Completed</td>\n",
       "    </tr>\n",
       "    <tr>\n",
       "      <th>34</th>\n",
       "      <td>1180690</td>\n",
       "      <td>0.1920</td>\n",
       "      <td>Other</td>\n",
       "      <td>426.0</td>\n",
       "      <td>4058.333333</td>\n",
       "      <td>True</td>\n",
       "      <td>1</td>\n",
       "      <td>10000</td>\n",
       "      <td>36</td>\n",
       "      <td>367.57</td>\n",
       "      <td>NaN</td>\n",
       "      <td>Current</td>\n",
       "    </tr>\n",
       "    <tr>\n",
       "      <th>35</th>\n",
       "      <td>544093</td>\n",
       "      <td>0.1621</td>\n",
       "      <td>Employed</td>\n",
       "      <td>55.0</td>\n",
       "      <td>3833.333333</td>\n",
       "      <td>False</td>\n",
       "      <td>1</td>\n",
       "      <td>9000</td>\n",
       "      <td>36</td>\n",
       "      <td>317.35</td>\n",
       "      <td>NaN</td>\n",
       "      <td>Current</td>\n",
       "    </tr>\n",
       "    <tr>\n",
       "      <th>36</th>\n",
       "      <td>1059633</td>\n",
       "      <td>0.2850</td>\n",
       "      <td>Employed</td>\n",
       "      <td>112.0</td>\n",
       "      <td>8750.000000</td>\n",
       "      <td>True</td>\n",
       "      <td>1</td>\n",
       "      <td>10000</td>\n",
       "      <td>36</td>\n",
       "      <td>416.34</td>\n",
       "      <td>NaN</td>\n",
       "      <td>Current</td>\n",
       "    </tr>\n",
       "    <tr>\n",
       "      <th>37</th>\n",
       "      <td>915698</td>\n",
       "      <td>0.2469</td>\n",
       "      <td>Employed</td>\n",
       "      <td>361.0</td>\n",
       "      <td>3333.333333</td>\n",
       "      <td>True</td>\n",
       "      <td>15</td>\n",
       "      <td>5000</td>\n",
       "      <td>36</td>\n",
       "      <td>197.98</td>\n",
       "      <td>NaN</td>\n",
       "      <td>Current</td>\n",
       "    </tr>\n",
       "    <tr>\n",
       "      <th>38</th>\n",
       "      <td>869272</td>\n",
       "      <td>0.0759</td>\n",
       "      <td>Other</td>\n",
       "      <td>539.0</td>\n",
       "      <td>6000.000000</td>\n",
       "      <td>True</td>\n",
       "      <td>1</td>\n",
       "      <td>7000</td>\n",
       "      <td>36</td>\n",
       "      <td>218.03</td>\n",
       "      <td>NaN</td>\n",
       "      <td>Current</td>\n",
       "    </tr>\n",
       "    <tr>\n",
       "      <th>39</th>\n",
       "      <td>24135</td>\n",
       "      <td>0.1450</td>\n",
       "      <td>NaN</td>\n",
       "      <td>NaN</td>\n",
       "      <td>9583.333333</td>\n",
       "      <td>False</td>\n",
       "      <td>0</td>\n",
       "      <td>10000</td>\n",
       "      <td>36</td>\n",
       "      <td>57.64</td>\n",
       "      <td>NaN</td>\n",
       "      <td>Completed</td>\n",
       "    </tr>\n",
       "    <tr>\n",
       "      <th>40</th>\n",
       "      <td>1167746</td>\n",
       "      <td>0.1725</td>\n",
       "      <td>Self-employed</td>\n",
       "      <td>276.0</td>\n",
       "      <td>12750.000000</td>\n",
       "      <td>False</td>\n",
       "      <td>1</td>\n",
       "      <td>15000</td>\n",
       "      <td>60</td>\n",
       "      <td>374.81</td>\n",
       "      <td>NaN</td>\n",
       "      <td>Current</td>\n",
       "    </tr>\n",
       "    <tr>\n",
       "      <th>41</th>\n",
       "      <td>594297</td>\n",
       "      <td>0.2085</td>\n",
       "      <td>Employed</td>\n",
       "      <td>76.0</td>\n",
       "      <td>9000.000000</td>\n",
       "      <td>True</td>\n",
       "      <td>7</td>\n",
       "      <td>13000</td>\n",
       "      <td>60</td>\n",
       "      <td>350.60</td>\n",
       "      <td>NaN</td>\n",
       "      <td>Current</td>\n",
       "    </tr>\n",
       "    <tr>\n",
       "      <th>42</th>\n",
       "      <td>93263</td>\n",
       "      <td>0.2900</td>\n",
       "      <td>Not available</td>\n",
       "      <td>NaN</td>\n",
       "      <td>416.666667</td>\n",
       "      <td>False</td>\n",
       "      <td>0</td>\n",
       "      <td>1500</td>\n",
       "      <td>36</td>\n",
       "      <td>62.86</td>\n",
       "      <td>NaN</td>\n",
       "      <td>Chargedoff</td>\n",
       "    </tr>\n",
       "    <tr>\n",
       "      <th>43</th>\n",
       "      <td>943697</td>\n",
       "      <td>0.1760</td>\n",
       "      <td>Employed</td>\n",
       "      <td>25.0</td>\n",
       "      <td>4333.333333</td>\n",
       "      <td>False</td>\n",
       "      <td>1</td>\n",
       "      <td>5000</td>\n",
       "      <td>36</td>\n",
       "      <td>179.76</td>\n",
       "      <td>NaN</td>\n",
       "      <td>Current</td>\n",
       "    </tr>\n",
       "    <tr>\n",
       "      <th>44</th>\n",
       "      <td>816108</td>\n",
       "      <td>0.1734</td>\n",
       "      <td>Employed</td>\n",
       "      <td>32.0</td>\n",
       "      <td>8916.666667</td>\n",
       "      <td>True</td>\n",
       "      <td>1</td>\n",
       "      <td>16000</td>\n",
       "      <td>36</td>\n",
       "      <td>573.15</td>\n",
       "      <td>NaN</td>\n",
       "      <td>Current</td>\n",
       "    </tr>\n",
       "    <tr>\n",
       "      <th>45</th>\n",
       "      <td>741867</td>\n",
       "      <td>0.1099</td>\n",
       "      <td>Employed</td>\n",
       "      <td>28.0</td>\n",
       "      <td>16000.000000</td>\n",
       "      <td>True</td>\n",
       "      <td>1</td>\n",
       "      <td>25000</td>\n",
       "      <td>60</td>\n",
       "      <td>543.44</td>\n",
       "      <td>NaN</td>\n",
       "      <td>Current</td>\n",
       "    </tr>\n",
       "    <tr>\n",
       "      <th>46</th>\n",
       "      <td>378497</td>\n",
       "      <td>0.1500</td>\n",
       "      <td>Full-time</td>\n",
       "      <td>32.0</td>\n",
       "      <td>3166.666667</td>\n",
       "      <td>False</td>\n",
       "      <td>1</td>\n",
       "      <td>4000</td>\n",
       "      <td>36</td>\n",
       "      <td>138.66</td>\n",
       "      <td>1.0</td>\n",
       "      <td>Completed</td>\n",
       "    </tr>\n",
       "    <tr>\n",
       "      <th>47</th>\n",
       "      <td>765126</td>\n",
       "      <td>0.1299</td>\n",
       "      <td>Employed</td>\n",
       "      <td>90.0</td>\n",
       "      <td>5416.666667</td>\n",
       "      <td>True</td>\n",
       "      <td>1</td>\n",
       "      <td>15000</td>\n",
       "      <td>36</td>\n",
       "      <td>505.34</td>\n",
       "      <td>3.0</td>\n",
       "      <td>Current</td>\n",
       "    </tr>\n",
       "    <tr>\n",
       "      <th>48</th>\n",
       "      <td>875992</td>\n",
       "      <td>0.1519</td>\n",
       "      <td>Employed</td>\n",
       "      <td>10.0</td>\n",
       "      <td>14583.333333</td>\n",
       "      <td>True</td>\n",
       "      <td>1</td>\n",
       "      <td>15000</td>\n",
       "      <td>60</td>\n",
       "      <td>358.35</td>\n",
       "      <td>NaN</td>\n",
       "      <td>Current</td>\n",
       "    </tr>\n",
       "    <tr>\n",
       "      <th>49</th>\n",
       "      <td>860928</td>\n",
       "      <td>0.0949</td>\n",
       "      <td>Employed</td>\n",
       "      <td>145.0</td>\n",
       "      <td>7458.333333</td>\n",
       "      <td>True</td>\n",
       "      <td>1</td>\n",
       "      <td>25000</td>\n",
       "      <td>60</td>\n",
       "      <td>524.92</td>\n",
       "      <td>NaN</td>\n",
       "      <td>Current</td>\n",
       "    </tr>\n",
       "    <tr>\n",
       "      <th>50</th>\n",
       "      <td>1081059</td>\n",
       "      <td>0.2150</td>\n",
       "      <td>Employed</td>\n",
       "      <td>43.0</td>\n",
       "      <td>7916.666667</td>\n",
       "      <td>True</td>\n",
       "      <td>1</td>\n",
       "      <td>10000</td>\n",
       "      <td>60</td>\n",
       "      <td>273.35</td>\n",
       "      <td>NaN</td>\n",
       "      <td>Current</td>\n",
       "    </tr>\n",
       "    <tr>\n",
       "      <th>51</th>\n",
       "      <td>536427</td>\n",
       "      <td>0.1799</td>\n",
       "      <td>Employed</td>\n",
       "      <td>0.0</td>\n",
       "      <td>4853.333333</td>\n",
       "      <td>True</td>\n",
       "      <td>1</td>\n",
       "      <td>2500</td>\n",
       "      <td>36</td>\n",
       "      <td>90.37</td>\n",
       "      <td>NaN</td>\n",
       "      <td>Current</td>\n",
       "    </tr>\n",
       "    <tr>\n",
       "      <th>52</th>\n",
       "      <td>733454</td>\n",
       "      <td>0.1153</td>\n",
       "      <td>Employed</td>\n",
       "      <td>209.0</td>\n",
       "      <td>8166.666667</td>\n",
       "      <td>True</td>\n",
       "      <td>1</td>\n",
       "      <td>7000</td>\n",
       "      <td>36</td>\n",
       "      <td>230.93</td>\n",
       "      <td>NaN</td>\n",
       "      <td>Current</td>\n",
       "    </tr>\n",
       "    <tr>\n",
       "      <th>53</th>\n",
       "      <td>706745</td>\n",
       "      <td>0.2712</td>\n",
       "      <td>Employed</td>\n",
       "      <td>76.0</td>\n",
       "      <td>4056.000000</td>\n",
       "      <td>False</td>\n",
       "      <td>1</td>\n",
       "      <td>3000</td>\n",
       "      <td>36</td>\n",
       "      <td>122.67</td>\n",
       "      <td>NaN</td>\n",
       "      <td>Current</td>\n",
       "    </tr>\n",
       "    <tr>\n",
       "      <th>54</th>\n",
       "      <td>629058</td>\n",
       "      <td>0.1852</td>\n",
       "      <td>Employed</td>\n",
       "      <td>61.0</td>\n",
       "      <td>10000.000000</td>\n",
       "      <td>True</td>\n",
       "      <td>2</td>\n",
       "      <td>18000</td>\n",
       "      <td>60</td>\n",
       "      <td>462.19</td>\n",
       "      <td>1.0</td>\n",
       "      <td>Current</td>\n",
       "    </tr>\n",
       "    <tr>\n",
       "      <th>55</th>\n",
       "      <td>992574</td>\n",
       "      <td>0.1399</td>\n",
       "      <td>Employed</td>\n",
       "      <td>51.0</td>\n",
       "      <td>3416.666667</td>\n",
       "      <td>False</td>\n",
       "      <td>1</td>\n",
       "      <td>10000</td>\n",
       "      <td>36</td>\n",
       "      <td>341.73</td>\n",
       "      <td>NaN</td>\n",
       "      <td>Current</td>\n",
       "    </tr>\n",
       "    <tr>\n",
       "      <th>56</th>\n",
       "      <td>894247</td>\n",
       "      <td>0.1870</td>\n",
       "      <td>Employed</td>\n",
       "      <td>179.0</td>\n",
       "      <td>4734.333333</td>\n",
       "      <td>False</td>\n",
       "      <td>1</td>\n",
       "      <td>15000</td>\n",
       "      <td>36</td>\n",
       "      <td>547.57</td>\n",
       "      <td>NaN</td>\n",
       "      <td>Current</td>\n",
       "    </tr>\n",
       "    <tr>\n",
       "      <th>57</th>\n",
       "      <td>540655</td>\n",
       "      <td>0.2552</td>\n",
       "      <td>Employed</td>\n",
       "      <td>155.0</td>\n",
       "      <td>9166.666667</td>\n",
       "      <td>True</td>\n",
       "      <td>1</td>\n",
       "      <td>2000</td>\n",
       "      <td>36</td>\n",
       "      <td>80.07</td>\n",
       "      <td>NaN</td>\n",
       "      <td>Chargedoff</td>\n",
       "    </tr>\n",
       "    <tr>\n",
       "      <th>58</th>\n",
       "      <td>847219</td>\n",
       "      <td>0.1519</td>\n",
       "      <td>Employed</td>\n",
       "      <td>89.0</td>\n",
       "      <td>4666.666667</td>\n",
       "      <td>False</td>\n",
       "      <td>1</td>\n",
       "      <td>8000</td>\n",
       "      <td>60</td>\n",
       "      <td>191.12</td>\n",
       "      <td>1.0</td>\n",
       "      <td>Current</td>\n",
       "    </tr>\n",
       "    <tr>\n",
       "      <th>59</th>\n",
       "      <td>203384</td>\n",
       "      <td>0.1600</td>\n",
       "      <td>Full-time</td>\n",
       "      <td>80.0</td>\n",
       "      <td>2750.000000</td>\n",
       "      <td>False</td>\n",
       "      <td>0</td>\n",
       "      <td>7000</td>\n",
       "      <td>36</td>\n",
       "      <td>244.47</td>\n",
       "      <td>NaN</td>\n",
       "      <td>Completed</td>\n",
       "    </tr>\n",
       "  </tbody>\n",
       "</table>\n",
       "</div>"
      ],
      "text/plain": [
       "    ListingNumber  BorrowerRate EmploymentStatus  EmploymentStatusDuration  \\\n",
       "0          193129        0.1580    Self-employed                       2.0   \n",
       "1         1209647        0.0920         Employed                      44.0   \n",
       "2           81716        0.2750    Not available                       NaN   \n",
       "3          658116        0.0974         Employed                     113.0   \n",
       "4          909464        0.2085         Employed                      44.0   \n",
       "5         1074836        0.1314         Employed                      82.0   \n",
       "6          750899        0.2712         Employed                     172.0   \n",
       "7          768193        0.2019         Employed                     103.0   \n",
       "8         1023355        0.0629         Employed                     269.0   \n",
       "9         1023355        0.0629         Employed                     269.0   \n",
       "10         587746        0.2489         Employed                     300.0   \n",
       "11         213551        0.1325        Full-time                      19.0   \n",
       "12        1081604        0.1435         Employed                       1.0   \n",
       "13         840820        0.1034         Employed                      98.0   \n",
       "14         757359        0.0949         Employed                      35.0   \n",
       "15         577164        0.3177            Other                     121.0   \n",
       "16         841846        0.2809        Full-time                     133.0   \n",
       "17          31540        0.1250    Not available                       NaN   \n",
       "18         716058        0.0974         Employed                     179.0   \n",
       "19         875565        0.2225         Employed                      18.0   \n",
       "20        1011916        0.1314         Employed                     175.0   \n",
       "21         241498        0.2075        Full-time                      36.0   \n",
       "22         706927        0.3134            Other                      68.0   \n",
       "23         758964        0.2419         Employed                       3.0   \n",
       "24        1046345        0.1620         Employed                      91.0   \n",
       "25         950067        0.2629         Employed                      15.0   \n",
       "26         713131        0.2809         Employed                      25.0   \n",
       "27         463083        0.0920        Full-time                      10.0   \n",
       "28         989519        0.1660         Employed                      48.0   \n",
       "29        1051243        0.1239         Employed                      16.0   \n",
       "30         555213        0.0999         Employed                      44.0   \n",
       "31         643927        0.3177            Other                      44.0   \n",
       "32        1132356        0.1274         Employed                     269.0   \n",
       "33         478891        0.0785         Employed                       7.0   \n",
       "34        1180690        0.1920            Other                     426.0   \n",
       "35         544093        0.1621         Employed                      55.0   \n",
       "36        1059633        0.2850         Employed                     112.0   \n",
       "37         915698        0.2469         Employed                     361.0   \n",
       "38         869272        0.0759            Other                     539.0   \n",
       "39          24135        0.1450              NaN                       NaN   \n",
       "40        1167746        0.1725    Self-employed                     276.0   \n",
       "41         594297        0.2085         Employed                      76.0   \n",
       "42          93263        0.2900    Not available                       NaN   \n",
       "43         943697        0.1760         Employed                      25.0   \n",
       "44         816108        0.1734         Employed                      32.0   \n",
       "45         741867        0.1099         Employed                      28.0   \n",
       "46         378497        0.1500        Full-time                      32.0   \n",
       "47         765126        0.1299         Employed                      90.0   \n",
       "48         875992        0.1519         Employed                      10.0   \n",
       "49         860928        0.0949         Employed                     145.0   \n",
       "50        1081059        0.2150         Employed                      43.0   \n",
       "51         536427        0.1799         Employed                       0.0   \n",
       "52         733454        0.1153         Employed                     209.0   \n",
       "53         706745        0.2712         Employed                      76.0   \n",
       "54         629058        0.1852         Employed                      61.0   \n",
       "55         992574        0.1399         Employed                      51.0   \n",
       "56         894247        0.1870         Employed                     179.0   \n",
       "57         540655        0.2552         Employed                     155.0   \n",
       "58         847219        0.1519         Employed                      89.0   \n",
       "59         203384        0.1600        Full-time                      80.0   \n",
       "\n",
       "    StatedMonthlyIncome  IsBorrowerHomeowner  ListingCategory (numeric)  \\\n",
       "0           3083.333333                 True                          0   \n",
       "1           6125.000000                False                          2   \n",
       "2           2083.333333                False                          0   \n",
       "3           2875.000000                 True                         16   \n",
       "4           9583.333333                 True                          2   \n",
       "5           8333.333333                 True                          1   \n",
       "6           2083.333333                False                          1   \n",
       "7           3355.750000                False                          2   \n",
       "8           3333.333333                 True                          7   \n",
       "9           3333.333333                 True                          7   \n",
       "10          7500.000000                False                          1   \n",
       "11          1666.666667                False                          0   \n",
       "12          2416.666667                False                          1   \n",
       "13          5833.333333                 True                          1   \n",
       "14         10833.333333                False                          1   \n",
       "15          5500.000000                 True                         13   \n",
       "16          8291.666667                 True                          6   \n",
       "17          5833.333333                 True                          0   \n",
       "18          6250.000000                False                          1   \n",
       "19          3075.000000                False                          1   \n",
       "20          5166.666667                 True                          1   \n",
       "21          3750.000000                False                          0   \n",
       "22           118.333333                False                          1   \n",
       "23          2500.000000                False                         15   \n",
       "24          2333.333333                 True                          1   \n",
       "25          6974.000000                False                         15   \n",
       "26          3885.916667                False                          1   \n",
       "27          6666.666667                 True                          1   \n",
       "28          3600.000000                 True                          2   \n",
       "29         10416.666667                 True                          1   \n",
       "30          3750.000000                False                         20   \n",
       "31          2250.000000                False                          2   \n",
       "32          7000.000000                 True                          1   \n",
       "33         13083.333333                False                          7   \n",
       "34          4058.333333                 True                          1   \n",
       "35          3833.333333                False                          1   \n",
       "36          8750.000000                 True                          1   \n",
       "37          3333.333333                 True                         15   \n",
       "38          6000.000000                 True                          1   \n",
       "39          9583.333333                False                          0   \n",
       "40         12750.000000                False                          1   \n",
       "41          9000.000000                 True                          7   \n",
       "42           416.666667                False                          0   \n",
       "43          4333.333333                False                          1   \n",
       "44          8916.666667                 True                          1   \n",
       "45         16000.000000                 True                          1   \n",
       "46          3166.666667                False                          1   \n",
       "47          5416.666667                 True                          1   \n",
       "48         14583.333333                 True                          1   \n",
       "49          7458.333333                 True                          1   \n",
       "50          7916.666667                 True                          1   \n",
       "51          4853.333333                 True                          1   \n",
       "52          8166.666667                 True                          1   \n",
       "53          4056.000000                False                          1   \n",
       "54         10000.000000                 True                          2   \n",
       "55          3416.666667                False                          1   \n",
       "56          4734.333333                False                          1   \n",
       "57          9166.666667                 True                          1   \n",
       "58          4666.666667                False                          1   \n",
       "59          2750.000000                False                          0   \n",
       "\n",
       "    LoanOriginalAmount  Term  MonthlyLoanPayment  TotalProsperLoans  \\\n",
       "0                 9425    36              330.43                NaN   \n",
       "1                10000    36              318.93                NaN   \n",
       "2                 3001    36              123.32                NaN   \n",
       "3                10000    36              321.45                NaN   \n",
       "4                15000    36              563.97                1.0   \n",
       "5                15000    60              342.37                NaN   \n",
       "6                 3000    36              122.67                NaN   \n",
       "7                10000    36              372.60                NaN   \n",
       "8                10000    36              305.54                NaN   \n",
       "9                10000    36              305.54                NaN   \n",
       "10               13500    60              395.37                NaN   \n",
       "11                1000    36               33.81                NaN   \n",
       "12                4000    36              137.39                NaN   \n",
       "13                8500    36              275.63                NaN   \n",
       "14               19330    60              415.37                NaN   \n",
       "15                4000    36              173.71                NaN   \n",
       "16                4000    60              124.76                3.0   \n",
       "17               10000    36              334.54                NaN   \n",
       "18               15000    36              482.18                NaN   \n",
       "19                6500    60              180.45                1.0   \n",
       "20               14000    36              472.66                NaN   \n",
       "21                3000    36              112.64                NaN   \n",
       "22                4000    36              172.76                NaN   \n",
       "23                2000    36               78.67                NaN   \n",
       "24                4000    36              141.02                NaN   \n",
       "25                4000    36              161.78                NaN   \n",
       "26                4000    60              124.76                NaN   \n",
       "27                4000    36                0.00                NaN   \n",
       "28               10000    36              354.54                NaN   \n",
       "29               35000    36             1169.03                NaN   \n",
       "30               10000    36              322.62                NaN   \n",
       "31                2000    36               86.85                NaN   \n",
       "32               25000    36              839.22                NaN   \n",
       "33               16000    36              500.28                1.0   \n",
       "34               10000    36              367.57                NaN   \n",
       "35                9000    36              317.35                NaN   \n",
       "36               10000    36              416.34                NaN   \n",
       "37                5000    36              197.98                NaN   \n",
       "38                7000    36              218.03                NaN   \n",
       "39               10000    36               57.64                NaN   \n",
       "40               15000    60              374.81                NaN   \n",
       "41               13000    60              350.60                NaN   \n",
       "42                1500    36               62.86                NaN   \n",
       "43                5000    36              179.76                NaN   \n",
       "44               16000    36              573.15                NaN   \n",
       "45               25000    60              543.44                NaN   \n",
       "46                4000    36              138.66                1.0   \n",
       "47               15000    36              505.34                3.0   \n",
       "48               15000    60              358.35                NaN   \n",
       "49               25000    60              524.92                NaN   \n",
       "50               10000    60              273.35                NaN   \n",
       "51                2500    36               90.37                NaN   \n",
       "52                7000    36              230.93                NaN   \n",
       "53                3000    36              122.67                NaN   \n",
       "54               18000    60              462.19                1.0   \n",
       "55               10000    36              341.73                NaN   \n",
       "56               15000    36              547.57                NaN   \n",
       "57                2000    36               80.07                NaN   \n",
       "58                8000    60              191.12                1.0   \n",
       "59                7000    36              244.47                NaN   \n",
       "\n",
       "              LoanStatus  \n",
       "0              Completed  \n",
       "1                Current  \n",
       "2              Completed  \n",
       "3                Current  \n",
       "4                Current  \n",
       "5                Current  \n",
       "6                Current  \n",
       "7                Current  \n",
       "8                Current  \n",
       "9                Current  \n",
       "10               Current  \n",
       "11             Completed  \n",
       "12  Past Due (1-15 days)  \n",
       "13               Current  \n",
       "14               Current  \n",
       "15             Defaulted  \n",
       "16               Current  \n",
       "17            Chargedoff  \n",
       "18               Current  \n",
       "19               Current  \n",
       "20               Current  \n",
       "21             Completed  \n",
       "22               Current  \n",
       "23             Defaulted  \n",
       "24               Current  \n",
       "25               Current  \n",
       "26             Completed  \n",
       "27             Completed  \n",
       "28               Current  \n",
       "29               Current  \n",
       "30             Completed  \n",
       "31               Current  \n",
       "32               Current  \n",
       "33             Completed  \n",
       "34               Current  \n",
       "35               Current  \n",
       "36               Current  \n",
       "37               Current  \n",
       "38               Current  \n",
       "39             Completed  \n",
       "40               Current  \n",
       "41               Current  \n",
       "42            Chargedoff  \n",
       "43               Current  \n",
       "44               Current  \n",
       "45               Current  \n",
       "46             Completed  \n",
       "47               Current  \n",
       "48               Current  \n",
       "49               Current  \n",
       "50               Current  \n",
       "51               Current  \n",
       "52               Current  \n",
       "53               Current  \n",
       "54               Current  \n",
       "55               Current  \n",
       "56               Current  \n",
       "57            Chargedoff  \n",
       "58               Current  \n",
       "59             Completed  "
      ]
     },
     "execution_count": 4,
     "metadata": {},
     "output_type": "execute_result"
    }
   ],
   "source": [
    "loans.head(60)"
   ]
  },
  {
   "cell_type": "code",
   "execution_count": 5,
   "metadata": {},
   "outputs": [
    {
     "name": "stdout",
     "output_type": "stream",
     "text": [
      "<class 'pandas.core.frame.DataFrame'>\n",
      "RangeIndex: 113937 entries, 0 to 113936\n",
      "Data columns (total 12 columns):\n",
      " #   Column                     Non-Null Count   Dtype  \n",
      "---  ------                     --------------   -----  \n",
      " 0   ListingNumber              113937 non-null  int64  \n",
      " 1   BorrowerRate               113937 non-null  float64\n",
      " 2   EmploymentStatus           111682 non-null  object \n",
      " 3   EmploymentStatusDuration   106312 non-null  float64\n",
      " 4   StatedMonthlyIncome        113937 non-null  float64\n",
      " 5   IsBorrowerHomeowner        113937 non-null  bool   \n",
      " 6   ListingCategory (numeric)  113937 non-null  int64  \n",
      " 7   LoanOriginalAmount         113937 non-null  int64  \n",
      " 8   Term                       113937 non-null  int64  \n",
      " 9   MonthlyLoanPayment         113937 non-null  float64\n",
      " 10  TotalProsperLoans          22085 non-null   float64\n",
      " 11  LoanStatus                 113937 non-null  object \n",
      "dtypes: bool(1), float64(5), int64(4), object(2)\n",
      "memory usage: 9.7+ MB\n"
     ]
    }
   ],
   "source": [
    "loans.info()"
   ]
  },
  {
   "cell_type": "code",
   "execution_count": 6,
   "metadata": {},
   "outputs": [
    {
     "data": {
      "text/html": [
       "<div>\n",
       "<style scoped>\n",
       "    .dataframe tbody tr th:only-of-type {\n",
       "        vertical-align: middle;\n",
       "    }\n",
       "\n",
       "    .dataframe tbody tr th {\n",
       "        vertical-align: top;\n",
       "    }\n",
       "\n",
       "    .dataframe thead th {\n",
       "        text-align: right;\n",
       "    }\n",
       "</style>\n",
       "<table border=\"1\" class=\"dataframe\">\n",
       "  <thead>\n",
       "    <tr style=\"text-align: right;\">\n",
       "      <th></th>\n",
       "      <th>ListingNumber</th>\n",
       "      <th>BorrowerRate</th>\n",
       "      <th>EmploymentStatusDuration</th>\n",
       "      <th>StatedMonthlyIncome</th>\n",
       "      <th>ListingCategory (numeric)</th>\n",
       "      <th>LoanOriginalAmount</th>\n",
       "      <th>Term</th>\n",
       "      <th>MonthlyLoanPayment</th>\n",
       "      <th>TotalProsperLoans</th>\n",
       "    </tr>\n",
       "  </thead>\n",
       "  <tbody>\n",
       "    <tr>\n",
       "      <th>count</th>\n",
       "      <td>1.139370e+05</td>\n",
       "      <td>113937.000000</td>\n",
       "      <td>106312.000000</td>\n",
       "      <td>1.139370e+05</td>\n",
       "      <td>113937.000000</td>\n",
       "      <td>113937.00000</td>\n",
       "      <td>113937.000000</td>\n",
       "      <td>113937.000000</td>\n",
       "      <td>22085.000000</td>\n",
       "    </tr>\n",
       "    <tr>\n",
       "      <th>mean</th>\n",
       "      <td>6.278857e+05</td>\n",
       "      <td>0.192764</td>\n",
       "      <td>96.071582</td>\n",
       "      <td>5.608026e+03</td>\n",
       "      <td>2.774209</td>\n",
       "      <td>8337.01385</td>\n",
       "      <td>40.830248</td>\n",
       "      <td>272.475783</td>\n",
       "      <td>1.421100</td>\n",
       "    </tr>\n",
       "    <tr>\n",
       "      <th>std</th>\n",
       "      <td>3.280762e+05</td>\n",
       "      <td>0.074818</td>\n",
       "      <td>94.480605</td>\n",
       "      <td>7.478497e+03</td>\n",
       "      <td>3.996797</td>\n",
       "      <td>6245.80058</td>\n",
       "      <td>10.436212</td>\n",
       "      <td>192.697812</td>\n",
       "      <td>0.764042</td>\n",
       "    </tr>\n",
       "    <tr>\n",
       "      <th>min</th>\n",
       "      <td>4.000000e+00</td>\n",
       "      <td>0.000000</td>\n",
       "      <td>0.000000</td>\n",
       "      <td>0.000000e+00</td>\n",
       "      <td>0.000000</td>\n",
       "      <td>1000.00000</td>\n",
       "      <td>12.000000</td>\n",
       "      <td>0.000000</td>\n",
       "      <td>0.000000</td>\n",
       "    </tr>\n",
       "    <tr>\n",
       "      <th>25%</th>\n",
       "      <td>4.009190e+05</td>\n",
       "      <td>0.134000</td>\n",
       "      <td>26.000000</td>\n",
       "      <td>3.200333e+03</td>\n",
       "      <td>1.000000</td>\n",
       "      <td>4000.00000</td>\n",
       "      <td>36.000000</td>\n",
       "      <td>131.620000</td>\n",
       "      <td>1.000000</td>\n",
       "    </tr>\n",
       "    <tr>\n",
       "      <th>50%</th>\n",
       "      <td>6.005540e+05</td>\n",
       "      <td>0.184000</td>\n",
       "      <td>67.000000</td>\n",
       "      <td>4.666667e+03</td>\n",
       "      <td>1.000000</td>\n",
       "      <td>6500.00000</td>\n",
       "      <td>36.000000</td>\n",
       "      <td>217.740000</td>\n",
       "      <td>1.000000</td>\n",
       "    </tr>\n",
       "    <tr>\n",
       "      <th>75%</th>\n",
       "      <td>8.926340e+05</td>\n",
       "      <td>0.250000</td>\n",
       "      <td>137.000000</td>\n",
       "      <td>6.825000e+03</td>\n",
       "      <td>3.000000</td>\n",
       "      <td>12000.00000</td>\n",
       "      <td>36.000000</td>\n",
       "      <td>371.580000</td>\n",
       "      <td>2.000000</td>\n",
       "    </tr>\n",
       "    <tr>\n",
       "      <th>max</th>\n",
       "      <td>1.255725e+06</td>\n",
       "      <td>0.497500</td>\n",
       "      <td>755.000000</td>\n",
       "      <td>1.750003e+06</td>\n",
       "      <td>20.000000</td>\n",
       "      <td>35000.00000</td>\n",
       "      <td>60.000000</td>\n",
       "      <td>2251.510000</td>\n",
       "      <td>8.000000</td>\n",
       "    </tr>\n",
       "  </tbody>\n",
       "</table>\n",
       "</div>"
      ],
      "text/plain": [
       "       ListingNumber   BorrowerRate  EmploymentStatusDuration  \\\n",
       "count   1.139370e+05  113937.000000             106312.000000   \n",
       "mean    6.278857e+05       0.192764                 96.071582   \n",
       "std     3.280762e+05       0.074818                 94.480605   \n",
       "min     4.000000e+00       0.000000                  0.000000   \n",
       "25%     4.009190e+05       0.134000                 26.000000   \n",
       "50%     6.005540e+05       0.184000                 67.000000   \n",
       "75%     8.926340e+05       0.250000                137.000000   \n",
       "max     1.255725e+06       0.497500                755.000000   \n",
       "\n",
       "       StatedMonthlyIncome  ListingCategory (numeric)  LoanOriginalAmount  \\\n",
       "count         1.139370e+05              113937.000000        113937.00000   \n",
       "mean          5.608026e+03                   2.774209          8337.01385   \n",
       "std           7.478497e+03                   3.996797          6245.80058   \n",
       "min           0.000000e+00                   0.000000          1000.00000   \n",
       "25%           3.200333e+03                   1.000000          4000.00000   \n",
       "50%           4.666667e+03                   1.000000          6500.00000   \n",
       "75%           6.825000e+03                   3.000000         12000.00000   \n",
       "max           1.750003e+06                  20.000000         35000.00000   \n",
       "\n",
       "                Term  MonthlyLoanPayment  TotalProsperLoans  \n",
       "count  113937.000000       113937.000000       22085.000000  \n",
       "mean       40.830248          272.475783           1.421100  \n",
       "std        10.436212          192.697812           0.764042  \n",
       "min        12.000000            0.000000           0.000000  \n",
       "25%        36.000000          131.620000           1.000000  \n",
       "50%        36.000000          217.740000           1.000000  \n",
       "75%        36.000000          371.580000           2.000000  \n",
       "max        60.000000         2251.510000           8.000000  "
      ]
     },
     "execution_count": 6,
     "metadata": {},
     "output_type": "execute_result"
    }
   ],
   "source": [
    "loans.describe()"
   ]
  },
  {
   "cell_type": "code",
   "execution_count": 7,
   "metadata": {},
   "outputs": [
    {
     "data": {
      "text/html": [
       "<div>\n",
       "<style scoped>\n",
       "    .dataframe tbody tr th:only-of-type {\n",
       "        vertical-align: middle;\n",
       "    }\n",
       "\n",
       "    .dataframe tbody tr th {\n",
       "        vertical-align: top;\n",
       "    }\n",
       "\n",
       "    .dataframe thead th {\n",
       "        text-align: right;\n",
       "    }\n",
       "</style>\n",
       "<table border=\"1\" class=\"dataframe\">\n",
       "  <thead>\n",
       "    <tr style=\"text-align: right;\">\n",
       "      <th></th>\n",
       "      <th>ListingNumber</th>\n",
       "      <th>BorrowerRate</th>\n",
       "      <th>EmploymentStatus</th>\n",
       "      <th>EmploymentStatusDuration</th>\n",
       "      <th>StatedMonthlyIncome</th>\n",
       "      <th>IsBorrowerHomeowner</th>\n",
       "      <th>ListingCategory (numeric)</th>\n",
       "      <th>LoanOriginalAmount</th>\n",
       "      <th>Term</th>\n",
       "      <th>MonthlyLoanPayment</th>\n",
       "      <th>TotalProsperLoans</th>\n",
       "      <th>LoanStatus</th>\n",
       "    </tr>\n",
       "  </thead>\n",
       "  <tbody>\n",
       "    <tr>\n",
       "      <th>38</th>\n",
       "      <td>869272</td>\n",
       "      <td>0.0759</td>\n",
       "      <td>Other</td>\n",
       "      <td>539.0</td>\n",
       "      <td>6000.000000</td>\n",
       "      <td>True</td>\n",
       "      <td>1</td>\n",
       "      <td>7000</td>\n",
       "      <td>36</td>\n",
       "      <td>218.03</td>\n",
       "      <td>NaN</td>\n",
       "      <td>Current</td>\n",
       "    </tr>\n",
       "    <tr>\n",
       "      <th>137</th>\n",
       "      <td>1103750</td>\n",
       "      <td>0.1795</td>\n",
       "      <td>Employed</td>\n",
       "      <td>551.0</td>\n",
       "      <td>1416.666667</td>\n",
       "      <td>False</td>\n",
       "      <td>1</td>\n",
       "      <td>4000</td>\n",
       "      <td>36</td>\n",
       "      <td>144.51</td>\n",
       "      <td>NaN</td>\n",
       "      <td>Current</td>\n",
       "    </tr>\n",
       "    <tr>\n",
       "      <th>233</th>\n",
       "      <td>684354</td>\n",
       "      <td>0.2346</td>\n",
       "      <td>Other</td>\n",
       "      <td>534.0</td>\n",
       "      <td>2166.666667</td>\n",
       "      <td>False</td>\n",
       "      <td>2</td>\n",
       "      <td>3500</td>\n",
       "      <td>36</td>\n",
       "      <td>136.32</td>\n",
       "      <td>1.0</td>\n",
       "      <td>Current</td>\n",
       "    </tr>\n",
       "    <tr>\n",
       "      <th>787</th>\n",
       "      <td>718841</td>\n",
       "      <td>0.2579</td>\n",
       "      <td>Employed</td>\n",
       "      <td>517.0</td>\n",
       "      <td>4166.666667</td>\n",
       "      <td>False</td>\n",
       "      <td>14</td>\n",
       "      <td>10000</td>\n",
       "      <td>60</td>\n",
       "      <td>298.16</td>\n",
       "      <td>NaN</td>\n",
       "      <td>Current</td>\n",
       "    </tr>\n",
       "    <tr>\n",
       "      <th>908</th>\n",
       "      <td>1189646</td>\n",
       "      <td>0.0990</td>\n",
       "      <td>Employed</td>\n",
       "      <td>547.0</td>\n",
       "      <td>7833.333333</td>\n",
       "      <td>True</td>\n",
       "      <td>1</td>\n",
       "      <td>15000</td>\n",
       "      <td>36</td>\n",
       "      <td>483.30</td>\n",
       "      <td>NaN</td>\n",
       "      <td>Current</td>\n",
       "    </tr>\n",
       "    <tr>\n",
       "      <th>...</th>\n",
       "      <td>...</td>\n",
       "      <td>...</td>\n",
       "      <td>...</td>\n",
       "      <td>...</td>\n",
       "      <td>...</td>\n",
       "      <td>...</td>\n",
       "      <td>...</td>\n",
       "      <td>...</td>\n",
       "      <td>...</td>\n",
       "      <td>...</td>\n",
       "      <td>...</td>\n",
       "      <td>...</td>\n",
       "    </tr>\n",
       "    <tr>\n",
       "      <th>111663</th>\n",
       "      <td>1147927</td>\n",
       "      <td>0.1239</td>\n",
       "      <td>Other</td>\n",
       "      <td>510.0</td>\n",
       "      <td>6777.166667</td>\n",
       "      <td>True</td>\n",
       "      <td>1</td>\n",
       "      <td>6000</td>\n",
       "      <td>36</td>\n",
       "      <td>200.41</td>\n",
       "      <td>NaN</td>\n",
       "      <td>Current</td>\n",
       "    </tr>\n",
       "    <tr>\n",
       "      <th>112060</th>\n",
       "      <td>538938</td>\n",
       "      <td>0.3149</td>\n",
       "      <td>Other</td>\n",
       "      <td>515.0</td>\n",
       "      <td>2492.500000</td>\n",
       "      <td>False</td>\n",
       "      <td>7</td>\n",
       "      <td>4000</td>\n",
       "      <td>36</td>\n",
       "      <td>173.09</td>\n",
       "      <td>NaN</td>\n",
       "      <td>Chargedoff</td>\n",
       "    </tr>\n",
       "    <tr>\n",
       "      <th>112246</th>\n",
       "      <td>591224</td>\n",
       "      <td>0.2610</td>\n",
       "      <td>Employed</td>\n",
       "      <td>523.0</td>\n",
       "      <td>4166.666667</td>\n",
       "      <td>True</td>\n",
       "      <td>1</td>\n",
       "      <td>7000</td>\n",
       "      <td>60</td>\n",
       "      <td>210.00</td>\n",
       "      <td>1.0</td>\n",
       "      <td>Completed</td>\n",
       "    </tr>\n",
       "    <tr>\n",
       "      <th>113292</th>\n",
       "      <td>896993</td>\n",
       "      <td>0.2769</td>\n",
       "      <td>Other</td>\n",
       "      <td>551.0</td>\n",
       "      <td>2666.666667</td>\n",
       "      <td>False</td>\n",
       "      <td>1</td>\n",
       "      <td>9000</td>\n",
       "      <td>36</td>\n",
       "      <td>370.77</td>\n",
       "      <td>NaN</td>\n",
       "      <td>Current</td>\n",
       "    </tr>\n",
       "    <tr>\n",
       "      <th>113817</th>\n",
       "      <td>671443</td>\n",
       "      <td>0.1939</td>\n",
       "      <td>Other</td>\n",
       "      <td>547.0</td>\n",
       "      <td>3416.666667</td>\n",
       "      <td>True</td>\n",
       "      <td>1</td>\n",
       "      <td>15000</td>\n",
       "      <td>60</td>\n",
       "      <td>392.33</td>\n",
       "      <td>NaN</td>\n",
       "      <td>Current</td>\n",
       "    </tr>\n",
       "  </tbody>\n",
       "</table>\n",
       "<p>230 rows × 12 columns</p>\n",
       "</div>"
      ],
      "text/plain": [
       "        ListingNumber  BorrowerRate EmploymentStatus  \\\n",
       "38             869272        0.0759            Other   \n",
       "137           1103750        0.1795         Employed   \n",
       "233            684354        0.2346            Other   \n",
       "787            718841        0.2579         Employed   \n",
       "908           1189646        0.0990         Employed   \n",
       "...               ...           ...              ...   \n",
       "111663        1147927        0.1239            Other   \n",
       "112060         538938        0.3149            Other   \n",
       "112246         591224        0.2610         Employed   \n",
       "113292         896993        0.2769            Other   \n",
       "113817         671443        0.1939            Other   \n",
       "\n",
       "        EmploymentStatusDuration  StatedMonthlyIncome  IsBorrowerHomeowner  \\\n",
       "38                         539.0          6000.000000                 True   \n",
       "137                        551.0          1416.666667                False   \n",
       "233                        534.0          2166.666667                False   \n",
       "787                        517.0          4166.666667                False   \n",
       "908                        547.0          7833.333333                 True   \n",
       "...                          ...                  ...                  ...   \n",
       "111663                     510.0          6777.166667                 True   \n",
       "112060                     515.0          2492.500000                False   \n",
       "112246                     523.0          4166.666667                 True   \n",
       "113292                     551.0          2666.666667                False   \n",
       "113817                     547.0          3416.666667                 True   \n",
       "\n",
       "        ListingCategory (numeric)  LoanOriginalAmount  Term  \\\n",
       "38                              1                7000    36   \n",
       "137                             1                4000    36   \n",
       "233                             2                3500    36   \n",
       "787                            14               10000    60   \n",
       "908                             1               15000    36   \n",
       "...                           ...                 ...   ...   \n",
       "111663                          1                6000    36   \n",
       "112060                          7                4000    36   \n",
       "112246                          1                7000    60   \n",
       "113292                          1                9000    36   \n",
       "113817                          1               15000    60   \n",
       "\n",
       "        MonthlyLoanPayment  TotalProsperLoans  LoanStatus  \n",
       "38                  218.03                NaN     Current  \n",
       "137                 144.51                NaN     Current  \n",
       "233                 136.32                1.0     Current  \n",
       "787                 298.16                NaN     Current  \n",
       "908                 483.30                NaN     Current  \n",
       "...                    ...                ...         ...  \n",
       "111663              200.41                NaN     Current  \n",
       "112060              173.09                NaN  Chargedoff  \n",
       "112246              210.00                1.0   Completed  \n",
       "113292              370.77                NaN     Current  \n",
       "113817              392.33                NaN     Current  \n",
       "\n",
       "[230 rows x 12 columns]"
      ]
     },
     "execution_count": 7,
     "metadata": {},
     "output_type": "execute_result"
    }
   ],
   "source": [
    "#There is a duration of 500 months of employment.\n",
    "loans.loc[loans['EmploymentStatusDuration'] > 500]"
   ]
  },
  {
   "cell_type": "markdown",
   "metadata": {},
   "source": [
    " \n"
   ]
  },
  {
   "cell_type": "markdown",
   "metadata": {},
   "source": [
    "* ### Assessment:"
   ]
  },
  {
   "cell_type": "markdown",
   "metadata": {},
   "source": [
    "1- There are no spaces in the column names, which reduces readability.\n",
    "\n",
    "2- `Employment_Status_Duration` has durations that are larger than 500, which is a long time for a person to work during their lifetime before retirement. Also, the `Borrower's_Occupation` and `Employment_Status` are entered as \"other,\" which may cause outlying data.\n",
    "\n",
    "3- Convert `Employment_Status_Duration` from months to years for more convenient visualizations.\n",
    "\n",
    "4- The ListingCategory (numeric) column should be filled with the category names, not the numbers."
   ]
  },
  {
   "cell_type": "markdown",
   "metadata": {},
   "source": [
    "* ### Cleaning: "
   ]
  },
  {
   "cell_type": "markdown",
   "metadata": {},
   "source": [
    "### Issue #1"
   ]
  },
  {
   "cell_type": "markdown",
   "metadata": {},
   "source": [
    "##### Define: \n",
    "Column names may not be as descriptive to the reader as they should be. Replace the column names so that they are more readable."
   ]
  },
  {
   "cell_type": "markdown",
   "metadata": {},
   "source": [
    "##### Code:"
   ]
  },
  {
   "cell_type": "code",
   "execution_count": 8,
   "metadata": {},
   "outputs": [],
   "source": [
    "loans = loans.rename(columns={ 'ListingNumber': 'Listing_Number', 'BorrowerRate': 'Borrower_Rate' , \n",
    "                              'EmploymentStatus': 'Employment_Status',\n",
    "                               'IsBorrowerHomeowner':'Owning_home', 'EmploymentStatusDuration':'Employment_Status_Duration',\n",
    "                               'StatedMonthlyIncome':'Stated_Monthly_Income', 'LoanStatus':'Loan_Status',\n",
    "                               'TotalProsperLoans':'Total_Prosper_Loans', 'ListingCategory (numeric)':'Loan_Reason',\n",
    "                               'LoanOriginalAmount':'Loan_Original_Amount', 'MonthlyLoanPayment':'Monthly_Loan_Payment'})\n",
    "    \n",
    "   "
   ]
  },
  {
   "cell_type": "markdown",
   "metadata": {},
   "source": [
    "##### Test:"
   ]
  },
  {
   "cell_type": "code",
   "execution_count": 9,
   "metadata": {},
   "outputs": [
    {
     "name": "stdout",
     "output_type": "stream",
     "text": [
      "Listing_Number\n",
      "Borrower_Rate\n",
      "Employment_Status\n",
      "Employment_Status_Duration\n",
      "Stated_Monthly_Income\n",
      "Owning_home\n",
      "Loan_Reason\n",
      "Loan_Original_Amount\n",
      "Term\n",
      "Monthly_Loan_Payment\n",
      "Total_Prosper_Loans\n",
      "Loan_Status\n"
     ]
    }
   ],
   "source": [
    "for col in loans.columns:\n",
    "    print(col)"
   ]
  },
  {
   "cell_type": "markdown",
   "metadata": {},
   "source": [
    "### Issue #2"
   ]
  },
  {
   "cell_type": "markdown",
   "metadata": {},
   "source": [
    "##### Define: \n",
    "`Employment_Status_Duration` has durations that are larger than 500, which is a long time for a typical person to work during their lifetime before retirement. Also, the borrower's occupation and employment status are entered as other, which may cause outlying data. Remove these rows by using the drop function."
   ]
  },
  {
   "cell_type": "markdown",
   "metadata": {},
   "source": [
    "##### Code:"
   ]
  },
  {
   "cell_type": "code",
   "execution_count": 10,
   "metadata": {},
   "outputs": [],
   "source": [
    "over_500 = loans[loans['Employment_Status_Duration'] > 500].index\n",
    "loans.drop(over_500 , inplace=True)"
   ]
  },
  {
   "cell_type": "markdown",
   "metadata": {},
   "source": [
    "##### Test:"
   ]
  },
  {
   "cell_type": "code",
   "execution_count": 11,
   "metadata": {},
   "outputs": [
    {
     "data": {
      "text/html": [
       "<div>\n",
       "<style scoped>\n",
       "    .dataframe tbody tr th:only-of-type {\n",
       "        vertical-align: middle;\n",
       "    }\n",
       "\n",
       "    .dataframe tbody tr th {\n",
       "        vertical-align: top;\n",
       "    }\n",
       "\n",
       "    .dataframe thead th {\n",
       "        text-align: right;\n",
       "    }\n",
       "</style>\n",
       "<table border=\"1\" class=\"dataframe\">\n",
       "  <thead>\n",
       "    <tr style=\"text-align: right;\">\n",
       "      <th></th>\n",
       "      <th>Listing_Number</th>\n",
       "      <th>Borrower_Rate</th>\n",
       "      <th>Employment_Status</th>\n",
       "      <th>Employment_Status_Duration</th>\n",
       "      <th>Stated_Monthly_Income</th>\n",
       "      <th>Owning_home</th>\n",
       "      <th>Loan_Reason</th>\n",
       "      <th>Loan_Original_Amount</th>\n",
       "      <th>Term</th>\n",
       "      <th>Monthly_Loan_Payment</th>\n",
       "      <th>Total_Prosper_Loans</th>\n",
       "      <th>Loan_Status</th>\n",
       "    </tr>\n",
       "  </thead>\n",
       "  <tbody>\n",
       "  </tbody>\n",
       "</table>\n",
       "</div>"
      ],
      "text/plain": [
       "Empty DataFrame\n",
       "Columns: [Listing_Number, Borrower_Rate, Employment_Status, Employment_Status_Duration, Stated_Monthly_Income, Owning_home, Loan_Reason, Loan_Original_Amount, Term, Monthly_Loan_Payment, Total_Prosper_Loans, Loan_Status]\n",
       "Index: []"
      ]
     },
     "execution_count": 11,
     "metadata": {},
     "output_type": "execute_result"
    }
   ],
   "source": [
    "loans.loc[loans['Employment_Status_Duration'] > 500]"
   ]
  },
  {
   "cell_type": "markdown",
   "metadata": {},
   "source": [
    "### Issue #3"
   ]
  },
  {
   "cell_type": "markdown",
   "metadata": {},
   "source": [
    "##### Define: \n",
    "Convert `Employment Status Duration` from months to years for more convenient visualizations."
   ]
  },
  {
   "cell_type": "markdown",
   "metadata": {},
   "source": [
    "##### Code: "
   ]
  },
  {
   "cell_type": "code",
   "execution_count": 12,
   "metadata": {},
   "outputs": [],
   "source": [
    "# Dividing by 12 months to convert the durations from months to years.\n",
    "loans['Employment_Status_Duration'] = loans['Employment_Status_Duration']/12"
   ]
  },
  {
   "cell_type": "markdown",
   "metadata": {},
   "source": [
    "##### Test: "
   ]
  },
  {
   "cell_type": "code",
   "execution_count": 13,
   "metadata": {},
   "outputs": [
    {
     "data": {
      "text/plain": [
       "0          0.166667\n",
       "1          3.666667\n",
       "2               NaN\n",
       "3          9.416667\n",
       "4          3.666667\n",
       "            ...    \n",
       "113932    20.500000\n",
       "113933     1.750000\n",
       "113934     7.000000\n",
       "113935     7.833333\n",
       "113936    20.333333\n",
       "Name: Employment_Status_Duration, Length: 113707, dtype: float64"
      ]
     },
     "execution_count": 13,
     "metadata": {},
     "output_type": "execute_result"
    }
   ],
   "source": [
    "loans['Employment_Status_Duration']"
   ]
  },
  {
   "cell_type": "markdown",
   "metadata": {},
   "source": [
    "### Issue #4 "
   ]
  },
  {
   "cell_type": "markdown",
   "metadata": {},
   "source": [
    "##### Define: \n",
    "The Listing Category (numeric) column should be filled with the category names, not the numbers. Refill the column with the categories instead of integer numbers."
   ]
  },
  {
   "cell_type": "markdown",
   "metadata": {},
   "source": [
    "##### Code: "
   ]
  },
  {
   "cell_type": "code",
   "execution_count": 14,
   "metadata": {},
   "outputs": [],
   "source": [
    "loans = loans.replace({'Loan_Reason' : \n",
    "                       \n",
    "                       {0: 'Not Available', 1: 'Debt Consolidation', 2: 'Home Improvement',\n",
    "                        3: 'Business', 4: 'Personal Loan', 5: 'Student Use', 6: 'Auto',\n",
    "                        7: 'Other', 8: 'Baby & Adoption', 9: 'Boat', 10: 'Cosmetic Procedure',\n",
    "                        11: 'Engagement Ring', 12: 'Green Loans', 13: 'Household Expenses', \n",
    "                        14: 'Large Purchases', 15: 'Medical/Dental', 16: 'Motorcycle',\n",
    "                        17: 'RV',  18: 'Taxes', 19: 'Vacation', 20: 'Wedding Loans'}\n",
    "                       \n",
    "                        })"
   ]
  },
  {
   "cell_type": "markdown",
   "metadata": {},
   "source": [
    "##### Test:"
   ]
  },
  {
   "cell_type": "code",
   "execution_count": 15,
   "metadata": {},
   "outputs": [
    {
     "data": {
      "text/plain": [
       "Debt Consolidation    58168\n",
       "Not Available         16961\n",
       "Other                 10471\n",
       "Home Improvement       7417\n",
       "Business               7176\n",
       "Auto                   2566\n",
       "Personal Loan          2395\n",
       "Household Expenses     1986\n",
       "Medical/Dental         1515\n",
       "Taxes                   885\n",
       "Large Purchases         872\n",
       "Wedding Loans           769\n",
       "Vacation                763\n",
       "Student Use             756\n",
       "Motorcycle              304\n",
       "Engagement Ring         217\n",
       "Baby & Adoption         199\n",
       "Cosmetic Procedure       91\n",
       "Boat                     85\n",
       "Green Loans              59\n",
       "RV                       52\n",
       "Name: Loan_Reason, dtype: int64"
      ]
     },
     "execution_count": 15,
     "metadata": {},
     "output_type": "execute_result"
    }
   ],
   "source": [
    "loans.Loan_Reason.value_counts()"
   ]
  },
  {
   "cell_type": "markdown",
   "metadata": {},
   "source": [
    "### Q: What is the structure of your dataset?"
   ]
  },
  {
   "cell_type": "code",
   "execution_count": 16,
   "metadata": {},
   "outputs": [
    {
     "name": "stdout",
     "output_type": "stream",
     "text": [
      "(113707, 12)\n"
     ]
    }
   ],
   "source": [
    "print(loans.shape)"
   ]
  },
  {
   "cell_type": "markdown",
   "metadata": {},
   "source": [
    "> The main dataset contains 113,937 rows (loans) and 81 columns (features). However, not all 81 columns will be analyzed. The sub-dataset will contain 12 that are necessary for this analysis."
   ]
  },
  {
   "cell_type": "markdown",
   "metadata": {},
   "source": [
    "### Q:  What is/are the main feature(s) of interest in your dataset?\n",
    "\n",
    "> I'm most interested in finding out which features are best for predicting the loan-borrower rate.\n",
    "\n",
    "### Q: What features in the dataset do you think will help support your investigation into your feature(s) of interest?\n",
    "\n",
    "> Some features, such as monthly income, occupation, listing category, and other significant features, I anticipate will contribute to my investigation to learn more about borrower rates. Also, I will discover the most important features that can help analyse and understand this dataset."
   ]
  },
  {
   "cell_type": "markdown",
   "metadata": {},
   "source": [
    "________________________________"
   ]
  },
  {
   "cell_type": "markdown",
   "metadata": {},
   "source": [
    "<a id='Univariate_Exploration'></a>\n",
    "# <font color=\"red\">Univariate Exploration</font>\n",
    "\n"
   ]
  },
  {
   "cell_type": "markdown",
   "metadata": {},
   "source": [
    "\n",
    "## <font color=\"blue\">Visualization #1</font>\n"
   ]
  },
  {
   "cell_type": "markdown",
   "metadata": {},
   "source": [
    "<a id='1'></a>\n",
    "**Borrower Rate**"
   ]
  },
  {
   "cell_type": "markdown",
   "metadata": {},
   "source": [
    "* First, I will look at the distribution of the main variable of interest: **Borrow Rate**"
   ]
  },
  {
   "cell_type": "code",
   "execution_count": 17,
   "metadata": {},
   "outputs": [
    {
     "data": {
      "image/png": "[encoded data removed]",
      "text/plain": [
       "<Figure size 648x432 with 1 Axes>"
      ]
     },
     "metadata": {
      "needs_background": "light"
     },
     "output_type": "display_data"
    }
   ],
   "source": [
    "binsize = 0.01\n",
    "bins = np.arange(0, loans['Borrower_Rate'].max()+binsize, binsize)\n",
    "\n",
    "plt.figure(figsize=[9, 6])\n",
    "plt.hist(data = loans, x = 'Borrower_Rate', bins = bins)\n",
    "\n",
    "#set up axis settings\n",
    "plt.xlabel('Borrower_Rate')\n",
    "plt.ylabel('Number of loans')\n",
    "plt.title('distribution of the Borrower_Rate')\n",
    "plt.show()"
   ]
  },
  {
   "cell_type": "markdown",
   "metadata": {},
   "source": [
    "Borrower rate distributions have a normal distribution shape. Also, the distribution appears to be a bit skewed to the right.\n",
    "However, there's a long tail in the distribution at about 0.32. The following cell will show additional investigation to fully comprehend all information about this peak at approximately 0.32. "
   ]
  },
  {
   "cell_type": "code",
   "execution_count": 18,
   "metadata": {},
   "outputs": [
    {
     "data": {
      "text/html": [
       "<div>\n",
       "<style scoped>\n",
       "    .dataframe tbody tr th:only-of-type {\n",
       "        vertical-align: middle;\n",
       "    }\n",
       "\n",
       "    .dataframe tbody tr th {\n",
       "        vertical-align: top;\n",
       "    }\n",
       "\n",
       "    .dataframe thead th {\n",
       "        text-align: right;\n",
       "    }\n",
       "</style>\n",
       "<table border=\"1\" class=\"dataframe\">\n",
       "  <thead>\n",
       "    <tr style=\"text-align: right;\">\n",
       "      <th></th>\n",
       "      <th>Listing_Number</th>\n",
       "      <th>Borrower_Rate</th>\n",
       "      <th>Employment_Status</th>\n",
       "      <th>Employment_Status_Duration</th>\n",
       "      <th>Stated_Monthly_Income</th>\n",
       "      <th>Owning_home</th>\n",
       "      <th>Loan_Reason</th>\n",
       "      <th>Loan_Original_Amount</th>\n",
       "      <th>Term</th>\n",
       "      <th>Monthly_Loan_Payment</th>\n",
       "      <th>Total_Prosper_Loans</th>\n",
       "      <th>Loan_Status</th>\n",
       "    </tr>\n",
       "  </thead>\n",
       "  <tbody>\n",
       "    <tr>\n",
       "      <th>15</th>\n",
       "      <td>577164</td>\n",
       "      <td>0.3177</td>\n",
       "      <td>Other</td>\n",
       "      <td>10.083333</td>\n",
       "      <td>5500.000000</td>\n",
       "      <td>True</td>\n",
       "      <td>Household Expenses</td>\n",
       "      <td>4000</td>\n",
       "      <td>36</td>\n",
       "      <td>173.71</td>\n",
       "      <td>NaN</td>\n",
       "      <td>Defaulted</td>\n",
       "    </tr>\n",
       "    <tr>\n",
       "      <th>22</th>\n",
       "      <td>706927</td>\n",
       "      <td>0.3134</td>\n",
       "      <td>Other</td>\n",
       "      <td>5.666667</td>\n",
       "      <td>118.333333</td>\n",
       "      <td>False</td>\n",
       "      <td>Debt Consolidation</td>\n",
       "      <td>4000</td>\n",
       "      <td>36</td>\n",
       "      <td>172.76</td>\n",
       "      <td>NaN</td>\n",
       "      <td>Current</td>\n",
       "    </tr>\n",
       "    <tr>\n",
       "      <th>31</th>\n",
       "      <td>643927</td>\n",
       "      <td>0.3177</td>\n",
       "      <td>Other</td>\n",
       "      <td>3.666667</td>\n",
       "      <td>2250.000000</td>\n",
       "      <td>False</td>\n",
       "      <td>Home Improvement</td>\n",
       "      <td>2000</td>\n",
       "      <td>36</td>\n",
       "      <td>86.85</td>\n",
       "      <td>NaN</td>\n",
       "      <td>Current</td>\n",
       "    </tr>\n",
       "    <tr>\n",
       "      <th>71</th>\n",
       "      <td>658787</td>\n",
       "      <td>0.3177</td>\n",
       "      <td>Employed</td>\n",
       "      <td>11.750000</td>\n",
       "      <td>2916.666667</td>\n",
       "      <td>True</td>\n",
       "      <td>Household Expenses</td>\n",
       "      <td>2774</td>\n",
       "      <td>36</td>\n",
       "      <td>120.47</td>\n",
       "      <td>NaN</td>\n",
       "      <td>Current</td>\n",
       "    </tr>\n",
       "    <tr>\n",
       "      <th>74</th>\n",
       "      <td>496566</td>\n",
       "      <td>0.3199</td>\n",
       "      <td>Employed</td>\n",
       "      <td>17.750000</td>\n",
       "      <td>5314.250000</td>\n",
       "      <td>True</td>\n",
       "      <td>Other</td>\n",
       "      <td>2500</td>\n",
       "      <td>36</td>\n",
       "      <td>108.87</td>\n",
       "      <td>NaN</td>\n",
       "      <td>Chargedoff</td>\n",
       "    </tr>\n",
       "    <tr>\n",
       "      <th>...</th>\n",
       "      <td>...</td>\n",
       "      <td>...</td>\n",
       "      <td>...</td>\n",
       "      <td>...</td>\n",
       "      <td>...</td>\n",
       "      <td>...</td>\n",
       "      <td>...</td>\n",
       "      <td>...</td>\n",
       "      <td>...</td>\n",
       "      <td>...</td>\n",
       "      <td>...</td>\n",
       "      <td>...</td>\n",
       "    </tr>\n",
       "    <tr>\n",
       "      <th>113875</th>\n",
       "      <td>539458</td>\n",
       "      <td>0.3149</td>\n",
       "      <td>Employed</td>\n",
       "      <td>8.083333</td>\n",
       "      <td>4702.166667</td>\n",
       "      <td>True</td>\n",
       "      <td>Other</td>\n",
       "      <td>5000</td>\n",
       "      <td>36</td>\n",
       "      <td>216.36</td>\n",
       "      <td>NaN</td>\n",
       "      <td>Past Due (61-90 days)</td>\n",
       "    </tr>\n",
       "    <tr>\n",
       "      <th>113905</th>\n",
       "      <td>539189</td>\n",
       "      <td>0.3177</td>\n",
       "      <td>Employed</td>\n",
       "      <td>14.583333</td>\n",
       "      <td>3250.000000</td>\n",
       "      <td>True</td>\n",
       "      <td>Debt Consolidation</td>\n",
       "      <td>4000</td>\n",
       "      <td>36</td>\n",
       "      <td>173.71</td>\n",
       "      <td>NaN</td>\n",
       "      <td>Chargedoff</td>\n",
       "    </tr>\n",
       "    <tr>\n",
       "      <th>113907</th>\n",
       "      <td>1005215</td>\n",
       "      <td>0.3134</td>\n",
       "      <td>Employed</td>\n",
       "      <td>7.166667</td>\n",
       "      <td>2166.666667</td>\n",
       "      <td>False</td>\n",
       "      <td>Debt Consolidation</td>\n",
       "      <td>4000</td>\n",
       "      <td>36</td>\n",
       "      <td>172.76</td>\n",
       "      <td>NaN</td>\n",
       "      <td>Current</td>\n",
       "    </tr>\n",
       "    <tr>\n",
       "      <th>113908</th>\n",
       "      <td>486057</td>\n",
       "      <td>0.3220</td>\n",
       "      <td>Employed</td>\n",
       "      <td>5.666667</td>\n",
       "      <td>2833.333333</td>\n",
       "      <td>False</td>\n",
       "      <td>Business</td>\n",
       "      <td>7500</td>\n",
       "      <td>36</td>\n",
       "      <td>327.49</td>\n",
       "      <td>NaN</td>\n",
       "      <td>Completed</td>\n",
       "    </tr>\n",
       "    <tr>\n",
       "      <th>113920</th>\n",
       "      <td>804763</td>\n",
       "      <td>0.3134</td>\n",
       "      <td>Employed</td>\n",
       "      <td>9.166667</td>\n",
       "      <td>5208.333333</td>\n",
       "      <td>True</td>\n",
       "      <td>Debt Consolidation</td>\n",
       "      <td>4000</td>\n",
       "      <td>36</td>\n",
       "      <td>172.76</td>\n",
       "      <td>2.0</td>\n",
       "      <td>Current</td>\n",
       "    </tr>\n",
       "  </tbody>\n",
       "</table>\n",
       "<p>10339 rows × 12 columns</p>\n",
       "</div>"
      ],
      "text/plain": [
       "        Listing_Number  Borrower_Rate Employment_Status  \\\n",
       "15              577164         0.3177             Other   \n",
       "22              706927         0.3134             Other   \n",
       "31              643927         0.3177             Other   \n",
       "71              658787         0.3177          Employed   \n",
       "74              496566         0.3199          Employed   \n",
       "...                ...            ...               ...   \n",
       "113875          539458         0.3149          Employed   \n",
       "113905          539189         0.3177          Employed   \n",
       "113907         1005215         0.3134          Employed   \n",
       "113908          486057         0.3220          Employed   \n",
       "113920          804763         0.3134          Employed   \n",
       "\n",
       "        Employment_Status_Duration  Stated_Monthly_Income  Owning_home  \\\n",
       "15                       10.083333            5500.000000         True   \n",
       "22                        5.666667             118.333333        False   \n",
       "31                        3.666667            2250.000000        False   \n",
       "71                       11.750000            2916.666667         True   \n",
       "74                       17.750000            5314.250000         True   \n",
       "...                            ...                    ...          ...   \n",
       "113875                    8.083333            4702.166667         True   \n",
       "113905                   14.583333            3250.000000         True   \n",
       "113907                    7.166667            2166.666667        False   \n",
       "113908                    5.666667            2833.333333        False   \n",
       "113920                    9.166667            5208.333333         True   \n",
       "\n",
       "               Loan_Reason  Loan_Original_Amount  Term  Monthly_Loan_Payment  \\\n",
       "15      Household Expenses                  4000    36                173.71   \n",
       "22      Debt Consolidation                  4000    36                172.76   \n",
       "31        Home Improvement                  2000    36                 86.85   \n",
       "71      Household Expenses                  2774    36                120.47   \n",
       "74                   Other                  2500    36                108.87   \n",
       "...                    ...                   ...   ...                   ...   \n",
       "113875               Other                  5000    36                216.36   \n",
       "113905  Debt Consolidation                  4000    36                173.71   \n",
       "113907  Debt Consolidation                  4000    36                172.76   \n",
       "113908            Business                  7500    36                327.49   \n",
       "113920  Debt Consolidation                  4000    36                172.76   \n",
       "\n",
       "        Total_Prosper_Loans            Loan_Status  \n",
       "15                      NaN              Defaulted  \n",
       "22                      NaN                Current  \n",
       "31                      NaN                Current  \n",
       "71                      NaN                Current  \n",
       "74                      NaN             Chargedoff  \n",
       "...                     ...                    ...  \n",
       "113875                  NaN  Past Due (61-90 days)  \n",
       "113905                  NaN             Chargedoff  \n",
       "113907                  NaN                Current  \n",
       "113908                  NaN              Completed  \n",
       "113920                  2.0                Current  \n",
       "\n",
       "[10339 rows x 12 columns]"
      ]
     },
     "execution_count": 18,
     "metadata": {},
     "output_type": "execute_result"
    }
   ],
   "source": [
    "loans.loc[(loans['Borrower_Rate']>0.3) & (loans['Borrower_Rate']<0.35)]"
   ]
  },
  {
   "cell_type": "markdown",
   "metadata": {},
   "source": [
    "   "
   ]
  },
  {
   "cell_type": "markdown",
   "metadata": {},
   "source": [
    "## <font color=\"blue\">visualization #2</font>"
   ]
  },
  {
   "cell_type": "markdown",
   "metadata": {},
   "source": [
    "<a id='2'></a>\n",
    "**Loan Original Amount**"
   ]
  },
  {
   "cell_type": "markdown",
   "metadata": {},
   "source": [
    "* Now, I will see the distribution of one of the factors that can affect the borrower rate: **Loan Original Amount**"
   ]
  },
  {
   "cell_type": "code",
   "execution_count": 19,
   "metadata": {},
   "outputs": [
    {
     "data": {
      "image/png": "[encoded data removed]",
      "text/plain": [
       "<Figure size 432x288 with 1 Axes>"
      ]
     },
     "metadata": {
      "needs_background": "light"
     },
     "output_type": "display_data"
    }
   ],
   "source": [
    "bin_size = 1000\n",
    "bins = np.arange(1000, loans['Loan_Original_Amount'].max()+bin_size, bin_size)\n",
    "\n",
    "plt.hist(data = loans, x = 'Loan_Original_Amount', bins = bins)\n",
    "\n",
    "plt.xlabel('Loan_Original_Amount')\n",
    "plt.ylabel('Number of loans')\n",
    "plt.title('distribution of the Loan Original Amount')\n",
    "plt.show()"
   ]
  },
  {
   "cell_type": "code",
   "execution_count": 20,
   "metadata": {},
   "outputs": [
    {
     "data": {
      "image/png": "[encoded data removed]",
      "text/plain": [
       "<Figure size 720x432 with 1 Axes>"
      ]
     },
     "metadata": {
      "needs_background": "light"
     },
     "output_type": "display_data"
    }
   ],
   "source": [
    "# The chart does not give much information about the loans. Amounts greater than $25,000 are difficult to see on the chart.\n",
    "#Using axis scaling and \"x ticks\" will help see more information about the original amount of the loans.\n",
    "plt.figure(figsize=[10, 6])\n",
    "\n",
    "bins = 10 ** np.arange(2.5, np.log10(loans['Loan_Original_Amount'].max())+0.05, 0.05)\n",
    "\n",
    "plt.hist(data = loans, x = 'Loan_Original_Amount', bins = bins)\n",
    "\n",
    "plt.xscale('log')\n",
    "plt.xticks([500, 1e3, 2e3, 3e3, 4e3, 5e3, 1e4, 1.5e4, 2e4, 2.5e4, 3.5e4], [500, '1k', '2k', '3k', '4k', '5k', '10k',\n",
    "                                                                       '15k', '20k', '25k', '35k'])\n",
    "plt.xlabel(\"Loan's Original Amount\")\n",
    "plt.ylabel('Number of loans')\n",
    "plt.title('distribution of the Loan Original Amount\\n')\n",
    "\n",
    "plt.show() \n"
   ]
  },
  {
   "cell_type": "markdown",
   "metadata": {},
   "source": [
    "As can be seen on the above histogram, the majority of the loans are between 4,000 and 4,504. There are also numerous loans ranging from 10,000 to 12,000 and 15,000 in amount. Furthermore, no loans are less than \"1,000\" and no loans are greater than \"35,000,\" as shown in the chart above. To verify these observations, the following cell will illustrate the minimum and maximum amounts of the loans:"
   ]
  },
  {
   "cell_type": "code",
   "execution_count": 21,
   "metadata": {},
   "outputs": [
    {
     "data": {
      "text/plain": [
       "count    113707.000000\n",
       "mean       8335.732787\n",
       "std        6245.849408\n",
       "min        1000.000000\n",
       "25%        4000.000000\n",
       "50%        6500.000000\n",
       "75%       12000.000000\n",
       "max       35000.000000\n",
       "Name: Loan_Original_Amount, dtype: float64"
      ]
     },
     "execution_count": 21,
     "metadata": {},
     "output_type": "execute_result"
    }
   ],
   "source": [
    "loans.Loan_Original_Amount.describe()"
   ]
  },
  {
   "cell_type": "markdown",
   "metadata": {},
   "source": [
    "  "
   ]
  },
  {
   "cell_type": "markdown",
   "metadata": {},
   "source": [
    "## <font color=\"blue\">Visualization #3</font>"
   ]
  },
  {
   "cell_type": "markdown",
   "metadata": {},
   "source": [
    "<a id='3'></a> \n",
    "**Total Prosper Loans** "
   ]
  },
  {
   "cell_type": "markdown",
   "metadata": {},
   "source": [
    "* Next, I'll investigate other factors that could affect the borrower rate and present some interesting facts about them. "
   ]
  },
  {
   "cell_type": "code",
   "execution_count": 22,
   "metadata": {},
   "outputs": [
    {
     "data": {
      "image/png": "[encoded data removed]",
      "text/plain": [
       "<Figure size 648x432 with 1 Axes>"
      ]
     },
     "metadata": {
      "needs_background": "light"
     },
     "output_type": "display_data"
    }
   ],
   "source": [
    "plt.figure(figsize=[9, 6])\n",
    "\n",
    "binsize = 0.5\n",
    "bins = np.arange(0, loans['Total_Prosper_Loans'].max()+binsize, binsize)\n",
    "\n",
    "plt.hist(data = loans, x = 'Total_Prosper_Loans', bins = bins)\n",
    "\n",
    "\n",
    "plt.xlabel('Total_Prosper_Loans')\n",
    "plt.ylabel('Number of loans')\n",
    "plt.title('Total_Prosper_Loans')\n",
    "plt.show()"
   ]
  },
  {
   "cell_type": "code",
   "execution_count": 23,
   "metadata": {},
   "outputs": [
    {
     "data": {
      "image/png": "[encoded data removed]",
      "text/plain": [
       "<Figure size 648x432 with 1 Axes>"
      ]
     },
     "metadata": {
      "needs_background": "light"
     },
     "output_type": "display_data"
    }
   ],
   "source": [
    "# There are values that are not displayed on the graph due to the absolute y-axis. \n",
    "#Using scaling and axis ticks, we will be able to transform and zoom out the above chart.\n",
    "\n",
    "binsize = 0.5\n",
    "bins = np.arange(0, loans['Total_Prosper_Loans'].max()+binsize, binsize)\n",
    "\n",
    "plt.figure(figsize=[9, 6])\n",
    "plt.hist(data = loans, x = 'Total_Prosper_Loans', bins = bins, log =True, edgecolor = 'black')\n",
    "\n",
    "plt.xlabel('Total Prosper Loans')\n",
    "plt.ylabel('Number of loans listed')\n",
    "plt.title('Total Prosper Loans\\n');"
   ]
  },
  {
   "cell_type": "markdown",
   "metadata": {},
   "source": [
    "The majority of those on the loan list (those who applied) had only one loan. Surprisingly, as the number of people applying for loans decreases, so does the number of loans. Furthermore, there is only one listing with eight loans, as shown below:"
   ]
  },
  {
   "cell_type": "code",
   "execution_count": 24,
   "metadata": {},
   "outputs": [
    {
     "data": {
      "text/plain": [
       "1.0    15519\n",
       "2.0     4534\n",
       "3.0     1447\n",
       "4.0      417\n",
       "5.0      104\n",
       "6.0       29\n",
       "7.0        8\n",
       "8.0        1\n",
       "0.0        1\n",
       "Name: Total_Prosper_Loans, dtype: int64"
      ]
     },
     "execution_count": 24,
     "metadata": {},
     "output_type": "execute_result"
    }
   ],
   "source": [
    "loans.Total_Prosper_Loans.value_counts()"
   ]
  },
  {
   "cell_type": "markdown",
   "metadata": {},
   "source": [
    "   "
   ]
  },
  {
   "cell_type": "markdown",
   "metadata": {},
   "source": [
    "## <font color=\"blue\">Visualization #4</font>"
   ]
  },
  {
   "cell_type": "markdown",
   "metadata": {},
   "source": [
    "<a id='4'></a> \n",
    "**Owning Home**"
   ]
  },
  {
   "cell_type": "markdown",
   "metadata": {},
   "source": [
    "* Now I'll look into the percentage of the **Owning Home:** "
   ]
  },
  {
   "cell_type": "code",
   "execution_count": 25,
   "metadata": {},
   "outputs": [
    {
     "data": {
      "image/png": "[encoded data removed]",
      "text/plain": [
       "<Figure size 1080x360 with 1 Axes>"
      ]
     },
     "metadata": {
      "needs_background": "light"
     },
     "output_type": "display_data"
    }
   ],
   "source": [
    "rcParams['figure.figsize'] = 15,5 #seitting the size of the fugire.\n",
    "\n",
    "sb.countplot(data=loans, y ='Owning_home').set(title='Percentage of Owning home')\n",
    "\n",
    "counts = loans['Owning_home'].value_counts()\n",
    "counts_sum = loans['Owning_home'].value_counts().sum()\n",
    "\n",
    "# Set up the loop for looping over the number of True and False in Owning Home\n",
    "for i in range (counts.shape[0]):\n",
    "    count = counts[i]\n",
    "    count_to_str = '{:0.2f}%'.format(100*count/counts_sum) # converting count to string (text) \n",
    "    plt.text(count+1, i, count_to_str, va='center')\n",
    "    \n",
    "# Axis set up\n",
    "plt.xlabel('\\nNumber of Loans\\n', size = 15)\n",
    "plt.ylabel('Owning Home\\n', size = 15)\n",
    "plt.title('\\nTotal Prosper Loans\\n', size = 18);"
   ]
  },
  {
   "cell_type": "markdown",
   "metadata": {},
   "source": [
    "As shown on the plot above, individuals who won homes are approximately equal to those who don't own homes. The difference is interesting; that is, there is only about a 0.86% difference. This difference is illustrated in the cell below."
   ]
  },
  {
   "cell_type": "code",
   "execution_count": 26,
   "metadata": {},
   "outputs": [
    {
     "name": "stdout",
     "output_type": "stream",
     "text": [
      "True     57346\n",
      "False    56361\n",
      "Name: Owning_home, dtype: int64\n",
      "113707\n",
      "\n",
      " \n",
      " The difference in percentage between people who own homes and those who do not is approximately 0.87 % .\n"
     ]
    }
   ],
   "source": [
    "print (loans.Owning_home.value_counts())\n",
    "print(len(loans['Owning_home']))\n",
    "T = (57346/113707)*100\n",
    "F = (56361/113707)*100\n",
    "result = round(T-F, 2)\n",
    "\n",
    "print('\\n \\n The difference in percentage between people who own homes and those who do not is approximately', result,'%','.')\n"
   ]
  },
  {
   "cell_type": "markdown",
   "metadata": {},
   "source": [
    "  "
   ]
  },
  {
   "cell_type": "markdown",
   "metadata": {},
   "source": [
    "## <font color=\"blue\">Visualization #5</font>"
   ]
  },
  {
   "cell_type": "markdown",
   "metadata": {},
   "source": [
    "<a id='5'></a> \n",
    "**Loan Term**"
   ]
  },
  {
   "cell_type": "markdown",
   "metadata": {},
   "source": [
    "* Next, I will see what is the most frequent loan term using the variable: Term **Term**:"
   ]
  },
  {
   "cell_type": "code",
   "execution_count": 27,
   "metadata": {},
   "outputs": [
    {
     "data": {
      "image/png": "[encoded data removed]",
      "text/plain": [
       "<Figure size 648x432 with 1 Axes>"
      ]
     },
     "metadata": {
      "needs_background": "light"
     },
     "output_type": "display_data"
    }
   ],
   "source": [
    "# set the data to be plotted\n",
    "x = loans['Term'].unique()\n",
    "y = loans['Term'].value_counts(sort=False)\n",
    "\n",
    "# set the basic plot\n",
    "plt.figure(figsize=[9, 6])\n",
    "plt.bar(x, y, width = 8)\n",
    "\n",
    "# Customize x-axis\n",
    "x_ticks = [12 ,36, 60]\n",
    "x_labels = ['12', '36','60']\n",
    "plt.xticks(ticks=x_ticks, labels=x_labels)\n",
    "\n",
    "# Labeling the axes\n",
    "plt.xlabel('Term (length) of the loans', size = 20)\n",
    "plt.ylabel('Number of Loans', size = 20)\n",
    "\n",
    "# Display the plot\n",
    "plt.show()"
   ]
  },
  {
   "cell_type": "markdown",
   "metadata": {},
   "source": [
    "The plot is basic and does not accurately show how many loans each term has. So, some transformation would be helpful.\n",
    "to understand the data better."
   ]
  },
  {
   "cell_type": "code",
   "execution_count": 28,
   "metadata": {},
   "outputs": [
    {
     "data": {
      "image/png": "[encoded data removed]",
      "text/plain": [
       "<Figure size 432x576 with 1 Axes>"
      ]
     },
     "metadata": {
      "needs_background": "light"
     },
     "output_type": "display_data"
    }
   ],
   "source": [
    "# set the data to be plotted\n",
    "x = loans['Term'].unique()\n",
    "y = loans['Term'].value_counts(sort=False)\n",
    "\n",
    "# set the basic plot\n",
    "plt.figure(figsize=(6, 8))\n",
    "blue_color = sb.color_palette()[0]\n",
    "barplot = sb.barplot(data = loans, x = x , y = y, ci = None, color= blue_color)\n",
    "\n",
    "\n",
    "# Add annotations to the plot using a for loop.\n",
    "for p in barplot.patches:\n",
    "    barplot.annotate(format(p.get_height(),'.1f'), (p.get_x() + p.get_width() / 2.,\n",
    "                                   p.get_height()), ha = 'center', va = 'center', \n",
    "                                   xytext = (0, 10), textcoords = 'offset points')\n",
    "\n",
    "    \n",
    "# Labeling the axes\n",
    "plt.tick_params(axis='x', colors='red', direction='out', length=13, width=3, size = 10)\n",
    "plt.xlabel('Term (length) of the loans', size = 20)\n",
    "plt.ylabel('Number of Loans', size = 20)\n",
    "plt.title('\\nThe Most Frequent Loan Term\\n', size = 15)\n",
    "\n",
    "# Dsiplay the plot\n",
    "plt.show()\n"
   ]
  },
  {
   "cell_type": "code",
   "execution_count": 29,
   "metadata": {},
   "outputs": [
    {
     "name": "stdout",
     "output_type": "stream",
     "text": [
      "As it can be seen on the bar graph above, most loans have a term of 36 months.\n",
      "However, the second-highest number of loans have a 60-month term.\n",
      "Finally, the lowest number of loans have only a 12-month term. \n",
      "\n",
      "The following counts illustrate how many loans there are for each loan term. \n",
      "This conforms to what has been demonstrated on the bar plot. \n",
      "\n",
      "12-month term: 1609\n",
      "36-month term: 87602\n",
      "60-month term: 24496\n"
     ]
    }
   ],
   "source": [
    "term_12 = loans[loans['Term'] == 12]\n",
    "term_36 = loans[loans['Term'] == 36]\n",
    "term_60 = loans[loans['Term'] == 60]\n",
    "\n",
    "result_12 = term_12['Term'].value_counts().sum()\n",
    "result_36 = term_36['Term'].value_counts().sum()\n",
    "result_60 = term_60['Term'].value_counts().sum()\n",
    "\n",
    "print('As it can be seen on the bar graph above, most loans have a term of 36 months.')\n",
    "print('However, the second-highest number of loans have a 60-month term.')\n",
    "print('Finally, the lowest number of loans have only a 12-month term. \\n')\n",
    "print('The following counts illustrate how many loans there are for each loan term. \\nThis conforms to what has been demonstrated on the bar plot. \\n')\n",
    "\n",
    "print('12-month term:', result_12)\n",
    "print('36-month term:', result_36)\n",
    "print('60-month term:', result_60)"
   ]
  },
  {
   "cell_type": "markdown",
   "metadata": {},
   "source": [
    "  "
   ]
  },
  {
   "cell_type": "markdown",
   "metadata": {},
   "source": [
    "## <font color=\"blue\">Visualization #6</font>"
   ]
  },
  {
   "cell_type": "markdown",
   "metadata": {},
   "source": [
    "<a id='6'></a> \n",
    "**Loan Status (no past-due dates)**"
   ]
  },
  {
   "cell_type": "markdown",
   "metadata": {},
   "source": [
    "* Next, I will investigate the number of loan statuses without the past-due statuses in the dataset using a Seaborn countplot."
   ]
  },
  {
   "cell_type": "code",
   "execution_count": 30,
   "metadata": {},
   "outputs": [
    {
     "data": {
      "text/html": [
       "<div>\n",
       "<style scoped>\n",
       "    .dataframe tbody tr th:only-of-type {\n",
       "        vertical-align: middle;\n",
       "    }\n",
       "\n",
       "    .dataframe tbody tr th {\n",
       "        vertical-align: top;\n",
       "    }\n",
       "\n",
       "    .dataframe thead th {\n",
       "        text-align: right;\n",
       "    }\n",
       "</style>\n",
       "<table border=\"1\" class=\"dataframe\">\n",
       "  <thead>\n",
       "    <tr style=\"text-align: right;\">\n",
       "      <th></th>\n",
       "      <th>Loan_Status</th>\n",
       "    </tr>\n",
       "  </thead>\n",
       "  <tbody>\n",
       "    <tr>\n",
       "      <th>0</th>\n",
       "      <td>Completed</td>\n",
       "    </tr>\n",
       "    <tr>\n",
       "      <th>1</th>\n",
       "      <td>Current</td>\n",
       "    </tr>\n",
       "    <tr>\n",
       "      <th>2</th>\n",
       "      <td>Completed</td>\n",
       "    </tr>\n",
       "    <tr>\n",
       "      <th>3</th>\n",
       "      <td>Current</td>\n",
       "    </tr>\n",
       "    <tr>\n",
       "      <th>4</th>\n",
       "      <td>Current</td>\n",
       "    </tr>\n",
       "    <tr>\n",
       "      <th>...</th>\n",
       "      <td>...</td>\n",
       "    </tr>\n",
       "    <tr>\n",
       "      <th>113932</th>\n",
       "      <td>Current</td>\n",
       "    </tr>\n",
       "    <tr>\n",
       "      <th>113933</th>\n",
       "      <td>FPIP</td>\n",
       "    </tr>\n",
       "    <tr>\n",
       "      <th>113934</th>\n",
       "      <td>Current</td>\n",
       "    </tr>\n",
       "    <tr>\n",
       "      <th>113935</th>\n",
       "      <td>Completed</td>\n",
       "    </tr>\n",
       "    <tr>\n",
       "      <th>113936</th>\n",
       "      <td>Current</td>\n",
       "    </tr>\n",
       "  </tbody>\n",
       "</table>\n",
       "<p>111647 rows × 1 columns</p>\n",
       "</div>"
      ],
      "text/plain": [
       "       Loan_Status\n",
       "0        Completed\n",
       "1          Current\n",
       "2        Completed\n",
       "3          Current\n",
       "4          Current\n",
       "...            ...\n",
       "113932     Current\n",
       "113933        FPIP\n",
       "113934     Current\n",
       "113935   Completed\n",
       "113936     Current\n",
       "\n",
       "[111647 rows x 1 columns]"
      ]
     },
     "execution_count": 30,
     "metadata": {},
     "output_type": "execute_result"
    }
   ],
   "source": [
    "# I will make a new dataframe that only contains the six loan statuses (without the past-due).\n",
    "\n",
    "# Create a pandas series\n",
    "ls = loans['Loan_Status'] # ls = loans statuses\n",
    "\n",
    "\n",
    "# Creating conditions\n",
    "conditions = (ls.str.contains('Current') | ls.str.contains('Completed') |\n",
    "            ls.str.contains('Chargedoff') |ls.str.contains('Defaulted') |\n",
    "            ls.str.contains('FinalPaymentInProgress') |\n",
    "            ls.str.contains('Cancelled'))\n",
    " \n",
    "\n",
    "# Use boolean indexing to extract values from the series that meet the conditions.\n",
    "new_statuses = pd.DataFrame(ls[conditions])\n",
    "\n",
    "new_statuses = new_statuses.replace({'Loan_Status' : {'FinalPaymentInProgress':'FPIP'}}) # FPIP = FinalPaymentInProgress\n",
    "new_statuses\n"
   ]
  },
  {
   "cell_type": "code",
   "execution_count": 31,
   "metadata": {},
   "outputs": [
    {
     "name": "stdout",
     "output_type": "stream",
     "text": [
      "Current                   56406\n",
      "Completed                 38041\n",
      "Chargedoff                11974\n",
      "Defaulted                  5016\n",
      "Past Due (1-15 days)        803\n",
      "Past Due (31-60 days)       361\n",
      "Past Due (61-90 days)       312\n",
      "Past Due (91-120 days)      304\n",
      "Past Due (16-30 days)       265\n",
      "FinalPaymentInProgress      205\n",
      "Past Due (>120 days)         15\n",
      "Cancelled                     5\n",
      "Name: Loan_Status, dtype: int64\n"
     ]
    }
   ],
   "source": [
    "print(loans.Loan_Status.value_counts())"
   ]
  },
  {
   "cell_type": "code",
   "execution_count": 32,
   "metadata": {},
   "outputs": [
    {
     "name": "stdout",
     "output_type": "stream",
     "text": [
      " - The number of Current loans is: 56406.\n",
      " - The number of Completed loans is: 38041.\n",
      " - The number of Chargedoff loans is: 11974.\n",
      " - The number of Defaulted loans is: 5016.\n",
      " - The number of FPIP loans is: 205.\n",
      " - The number of Cancelled loans is: 5.\n",
      " - The total is: 111647\n",
      "\n",
      " - The length of new_statues dataframe is: 111647\n"
     ]
    }
   ],
   "source": [
    "print(' - The number of Current loans is: 56406.')\n",
    "print(' - The number of Completed loans is: 38041.')\n",
    "print(' - The number of Chargedoff loans is: 11974.')\n",
    "print(' - The number of Defaulted loans is: 5016.')\n",
    "print(' - The number of FPIP loans is: 205.')\n",
    "print(' - The number of Cancelled loans is: 5.')\n",
    "print(' - The total is: 111647\\n')\n",
    "print(' - The length of new_statues dataframe is:', len(new_statuses))"
   ]
  },
  {
   "cell_type": "code",
   "execution_count": 33,
   "metadata": {
    "scrolled": true
   },
   "outputs": [
    {
     "name": "stdout",
     "output_type": "stream",
     "text": [
      "0\n"
     ]
    }
   ],
   "source": [
    "# To confirm that the total number of rows in the new statue frame is correct, the result of the following should be zero:\n",
    "print((56406 + 38041 + 11974 + 5016 + 205 + 5 ) - len(new_statuses)) "
   ]
  },
  {
   "cell_type": "code",
   "execution_count": 34,
   "metadata": {},
   "outputs": [
    {
     "data": {
      "image/png": "[encoded data removed]",
      "text/plain": [
       "<Figure size 648x648 with 1 Axes>"
      ]
     },
     "metadata": {
      "needs_background": "light"
     },
     "output_type": "display_data"
    }
   ],
   "source": [
    "# set up the figure and colour\n",
    "plt.figure(figsize=[9, 9])\n",
    "blue_color = sb.color_palette()[0]\n",
    "\n",
    "# set up the data for plot\n",
    "freq = new_statuses['Loan_Status'].value_counts()\n",
    "loans_order = freq.index\n",
    "\n",
    "#plotting the data\n",
    "countplot = sb.countplot(data=new_statuses, x='Loan_Status', color = blue_color, order = loans_order)\n",
    "\n",
    "# Add annotations to the plot using a for loop.\n",
    "for p in countplot.patches:\n",
    "    countplot.annotate(format(p.get_height(),'.1f'), (p.get_x() + p.get_width() / 2.,\n",
    "                                   p.get_height()), ha = 'center', va = 'center', \n",
    "                                   xytext = (0, 10), textcoords = 'offset points')\n",
    "\n",
    "# Labeling the axis\n",
    "plt.tick_params(axis='x', colors='green', direction='out', length=13, width=3, size = 10)\n",
    "plt.xlabel('\\nLoan Statues', size = 20)\n",
    "plt.xticks(rotation=20)\n",
    "plt.ylabel('Number of Loans', size = 20)\n",
    "plt.title('Distrbution of loan statues\\n', color= 'red', size = 20)\n",
    "\n",
    "# Dsiplay the plot\n",
    "plt.show();"
   ]
  },
  {
   "cell_type": "markdown",
   "metadata": {},
   "source": [
    "Keeping in mind that the data frame does not include past-due, the new_statuses dataframe has only six loan statuses.\n",
    "Current loans form the majority of the loans, accounting for 56406 loans. The second-highest Statue loans number is completed (38041 loans). Interestingly, cancelled loans are only 5, which is the lowest number of loans in the dataframe."
   ]
  },
  {
   "cell_type": "markdown",
   "metadata": {},
   "source": [
    "  "
   ]
  },
  {
   "cell_type": "markdown",
   "metadata": {},
   "source": [
    "## <font color=\"blue\">Visualization #7</font>"
   ]
  },
  {
   "cell_type": "markdown",
   "metadata": {},
   "source": [
    "<a id='7'></a> \n",
    "**Employment Status**"
   ]
  },
  {
   "cell_type": "markdown",
   "metadata": {},
   "source": [
    "* Next, I will explore the distribution of  **Employment Status:**"
   ]
  },
  {
   "cell_type": "code",
   "execution_count": 35,
   "metadata": {},
   "outputs": [
    {
     "data": {
      "image/png": "[encoded data removed]",
      "text/plain": [
       "<Figure size 1080x504 with 1 Axes>"
      ]
     },
     "metadata": {
      "needs_background": "light"
     },
     "output_type": "display_data"
    }
   ],
   "source": [
    "# Set up the color and figure size:\n",
    "plt.figure(figsize=[15, 7])\n",
    "base_color = sb.color_palette()[0]\n",
    "\n",
    "#set up data: \n",
    "ems_order = loans['Employment_Status'].value_counts().index # ems = Employment_Status\n",
    "ems_counts = loans['Employment_Status'].value_counts()\n",
    "sum_ems = loans['Employment_Status'].value_counts().sum() # sum of all not null values\n",
    "\n",
    "# plot the data: \n",
    "sb.countplot(data = loans, x = 'Employment_Status', color = base_color, order = ems_order);\n",
    "\n",
    "# get the current tick locations and labels\n",
    "locs, labels = plt.xticks(rotation=29, size = 15) \n",
    "\n",
    "# loop for the annotation on the plot\n",
    "for loc, label in zip(locs, labels):\n",
    "    \n",
    "    count = ems_counts[label.get_text()]\n",
    "    pct_string = '{:0.2f}%'.format(100*count/sum_ems)\n",
    "\n",
    "    # printing the annotation\n",
    "    plt.text(loc, count+2, pct_string, ha = 'center', color = 'red', size = 15)\n",
    "    \n",
    "    \n",
    "# Labeling the x-axis\n",
    "plt.tick_params(axis = 'x', colors = 'green', direction='out', length=13, width = 5, size = 10)\n",
    "plt.xlabel('\\n\\nEmployment_Status', size = 20)\n",
    "plt.xticks(rotation=20)\n",
    "\n",
    "# Labeling the y-axis\n",
    "plt.ylabel('Number of Employes\\n', size = 20)\n",
    "plt.yticks(size = 14)\n",
    "\n",
    "plt.title('\\nDistrbution of Employment statues\\n', color= 'red', size = 20)\n",
    "\n",
    "# Dsiplay the plot\n",
    "plt.show();"
   ]
  },
  {
   "cell_type": "markdown",
   "metadata": {},
   "source": [
    "After visualising the data on employment status, it appears that more than half of the applicants to the loans are employed (60.33%). Also, it can be seen that people with full-time jobs make up 23.64% of applicants. Finally, individuals working part-time, not employed, and retired form only about 3%."
   ]
  },
  {
   "cell_type": "code",
   "execution_count": 36,
   "metadata": {},
   "outputs": [
    {
     "data": {
      "text/html": [
       "<div>\n",
       "<style scoped>\n",
       "    .dataframe tbody tr th:only-of-type {\n",
       "        vertical-align: middle;\n",
       "    }\n",
       "\n",
       "    .dataframe tbody tr th {\n",
       "        vertical-align: top;\n",
       "    }\n",
       "\n",
       "    .dataframe thead th {\n",
       "        text-align: right;\n",
       "    }\n",
       "</style>\n",
       "<table border=\"1\" class=\"dataframe\">\n",
       "  <thead>\n",
       "    <tr style=\"text-align: right;\">\n",
       "      <th></th>\n",
       "      <th>Number of employes</th>\n",
       "      <th>Percentage</th>\n",
       "    </tr>\n",
       "  </thead>\n",
       "  <tbody>\n",
       "    <tr>\n",
       "      <th>Employed</th>\n",
       "      <td>67244</td>\n",
       "      <td>60.33%</td>\n",
       "    </tr>\n",
       "    <tr>\n",
       "      <th>Full-time</th>\n",
       "      <td>26343</td>\n",
       "      <td>23.64%</td>\n",
       "    </tr>\n",
       "    <tr>\n",
       "      <th>Self-employed</th>\n",
       "      <td>6107</td>\n",
       "      <td>5.48%</td>\n",
       "    </tr>\n",
       "    <tr>\n",
       "      <th>Not available</th>\n",
       "      <td>5347</td>\n",
       "      <td>4.8%</td>\n",
       "    </tr>\n",
       "    <tr>\n",
       "      <th>Other</th>\n",
       "      <td>3695</td>\n",
       "      <td>3.32%</td>\n",
       "    </tr>\n",
       "    <tr>\n",
       "      <th>Part-time</th>\n",
       "      <td>1087</td>\n",
       "      <td>0.98%</td>\n",
       "    </tr>\n",
       "    <tr>\n",
       "      <th>Not employed</th>\n",
       "      <td>835</td>\n",
       "      <td>0.75%</td>\n",
       "    </tr>\n",
       "    <tr>\n",
       "      <th>Retired</th>\n",
       "      <td>794</td>\n",
       "      <td>0.71%</td>\n",
       "    </tr>\n",
       "  </tbody>\n",
       "</table>\n",
       "</div>"
      ],
      "text/plain": [
       "               Number of employes Percentage\n",
       "Employed                    67244     60.33%\n",
       "Full-time                   26343     23.64%\n",
       "Self-employed                6107      5.48%\n",
       "Not available                5347       4.8%\n",
       "Other                        3695      3.32%\n",
       "Part-time                    1087      0.98%\n",
       "Not employed                  835      0.75%\n",
       "Retired                       794      0.71%"
      ]
     },
     "execution_count": 36,
     "metadata": {},
     "output_type": "execute_result"
    }
   ],
   "source": [
    "# Create the Percentage\n",
    "percs = loans.Employment_Status.value_counts(normalize=True).mul(100).round(2).astype(str) + '%'\n",
    "ems_counts = loans['Employment_Status'].value_counts()\n",
    "\n",
    "#concatenate results into one DataFrame\n",
    "pd.concat([ems_counts,percs], axis=1, keys=['Number of employes', 'Percentage'])"
   ]
  },
  {
   "cell_type": "markdown",
   "metadata": {},
   "source": [
    "  "
   ]
  },
  {
   "cell_type": "markdown",
   "metadata": {},
   "source": [
    "## <font color=\"blue\">Visualization #8</font>"
   ]
  },
  {
   "cell_type": "markdown",
   "metadata": {},
   "source": [
    "<a id='8'></a> \n",
    "**Employment Status Duration**"
   ]
  },
  {
   "cell_type": "markdown",
   "metadata": {},
   "source": [
    "* Following an examination of the distribution of employment status, I will investigate how long the majority of applicants were in their employment status. To put it another way, I plan to look into the distribution of employment status duration. "
   ]
  },
  {
   "cell_type": "code",
   "execution_count": 37,
   "metadata": {},
   "outputs": [
    {
     "data": {
      "image/png": "[encoded data removed]",
      "text/plain": [
       "<Figure size 1368x720 with 1 Axes>"
      ]
     },
     "metadata": {
      "needs_background": "light"
     },
     "output_type": "display_data"
    },
    {
     "name": "stdout",
     "output_type": "stream",
     "text": [
      "\n",
      " First Quartile = 2.17\n",
      " Second Quartile = 5.58\n",
      " Third Quartile =  11.33\n",
      " Longest Duration = 41.67\n"
     ]
    }
   ],
   "source": [
    "# Set up the figure size and position: \n",
    "plt.figure(figsize=[19, 10])\n",
    "plt.subplots_adjust(left=0.15, bottom=0.3, right=0.70, top=0.7, wspace=0.2, hspace=0.2)\n",
    "\n",
    "# plotting Employment Status Duration\n",
    "sb.histplot(x = 'Employment_Status_Duration', data = loans)\n",
    "\n",
    "# create the quartiles for durations in years.\n",
    "q1, q2, q3 = loans.Employment_Status_Duration.quantile([0.25, 0.5, 0.75])\n",
    "maxx = loans.Employment_Status_Duration.max()\n",
    "\n",
    "# create thequartaile lines\n",
    "plt.axvline(q1, color = 'r', label = 'First Quartile')\n",
    "plt.axvline(q2, color = 'g', label = 'Second Quartile')\n",
    "plt.axvline(q3, color = 'y', label = 'Third Quartile')\n",
    "plt.axvline(maxx, color = 'b', label = 'Longest Duration')\n",
    "\n",
    "# Customizing titles, labels, and legend\n",
    "plt.title('\\nDistribution of Employment Status Duration \\n', color = 'red', size= 15)\n",
    "plt.xlabel('\\nEmployment Status Duration (Years)', size = 14)\n",
    "plt.ylabel('Number of employees\\n', size = 14)\n",
    "plt.legend()\n",
    "plt.show();\n",
    "\n",
    "print('\\n First Quartile =', round(q1,2))\n",
    "print(' Second Quartile =', round(q2, 2))\n",
    "print(' Third Quartile = ', round(q3, 2))\n",
    "print(' Longest Duration =', round(maxx,2))"
   ]
  },
  {
   "cell_type": "markdown",
   "metadata": {},
   "source": [
    "The majority of the employees had been in their job positions for about a year to 11.33 years. However, only a few thousand applicants exceed 12 years in the same position."
   ]
  },
  {
   "cell_type": "markdown",
   "metadata": {},
   "source": [
    "   "
   ]
  },
  {
   "cell_type": "markdown",
   "metadata": {},
   "source": [
    "### Discuss the distribution(s) of your variable(s) of interest. Were there any unusual points? Did you need to perform any transformations?\n",
    "\n",
    "The distribution of `Borrower Rate` follows a normal distribution. Additionally, the distribution is somewhat skewed to the right. However, the distribution has a long peak around roughly 0.32.\n",
    "\n",
    "Also, I used a log transform to examine the data because the `Loan Original Amount` variable had a wide range of values. The transformed data resembled multiple peaks of distribution between 4000 and 15000.\n",
    "\n",
    "### Of the features you investigated, were there any unusual distributions? Did you perform any operations on the data to tidy, adjust, or change the form of the data? If so, why did you do this?\n",
    "\n",
    "Most of the features that I have investigated up to now did not display any unusual distributions. However, `Total Prosper Loans` did not display correctly. I had to transform the axis in order to see the distribution of all loan totals."
   ]
  },
  {
   "cell_type": "markdown",
   "metadata": {},
   "source": [
    "___________________________"
   ]
  },
  {
   "cell_type": "markdown",
   "metadata": {},
   "source": [
    "<a id='Bivariate_Exploration'></a>\n",
    "# <font color=\"red\">Bivariate Exploration</font>\n",
    "\n"
   ]
  },
  {
   "cell_type": "markdown",
   "metadata": {},
   "source": [
    "In this section, I will consider and visualise multiple pairs of variables and try to see how these pairs would affect in any way the decision by Prosper Bank to lend a loan to the applicant."
   ]
  },
  {
   "cell_type": "markdown",
   "metadata": {},
   "source": [
    "## <font color=\"blue\">Visualization #9</font>"
   ]
  },
  {
   "cell_type": "markdown",
   "metadata": {},
   "source": [
    "<a id='9'></a> \n",
    "**Employment Status & Owning Home**"
   ]
  },
  {
   "cell_type": "markdown",
   "metadata": {},
   "source": [
    "* For this part, I will explore different employment statuses and ownership of a home. For example, we could determine whether or not the two varieties are related. "
   ]
  },
  {
   "cell_type": "markdown",
   "metadata": {},
   "source": [
    "First, all three categories (full-time, part-time, and employed) should be combined because they are all likely to be considered employees regardless of the type of job. So, I will convert all the different job types into only one general type, \"employed.\" Also, there are some cases where there are values of \"other\" and \"not available.\" These should be in one category, \"Not available.\" That is, we do not know what is meant by \"other,\" so we do not have much information available about it."
   ]
  },
  {
   "cell_type": "code",
   "execution_count": 38,
   "metadata": {},
   "outputs": [],
   "source": [
    "# convert job types to \"Employed\" and \"Othere\" to \"Not available.\"\n",
    "loans = loans.replace({'Employment_Status' : {'Full-time': 'Employed', 'Part-time': 'Employed', 'Other':'Not available'}})"
   ]
  },
  {
   "cell_type": "code",
   "execution_count": 39,
   "metadata": {},
   "outputs": [
    {
     "data": {
      "image/png": "[encoded data removed]",
      "text/plain": [
       "<Figure size 1440x1080 with 1 Axes>"
      ]
     },
     "metadata": {
      "needs_background": "light"
     },
     "output_type": "display_data"
    }
   ],
   "source": [
    "# Set up the figure size and position.\n",
    "plt.figure(figsize=[20, 15])\n",
    "plt.subplots_adjust(left=0.10, bottom=0.3, right=0.65, top=0.7, wspace=0.2, hspace=0.2)\n",
    "\n",
    "# Set up home data to make it in decreasing order\n",
    "em_counts = loans['Employment_Status'].value_counts() # em = employment\n",
    "em_index = em_counts.index\n",
    "\n",
    "#plotting the data\n",
    "home_countplot = sb.countplot(data = loans, x = 'Employment_Status', hue = 'Owning_home', order = em_index,\n",
    "                              palette=['brown', 'green'])\n",
    "                             \n",
    "\n",
    "# Add annotations to the plot using a for loop.\n",
    "for home in home_countplot.patches:\n",
    "    home_countplot.annotate(format(home.get_height(),'.1f'), (home.get_x() + home.get_width() / 2,\n",
    "                                   home.get_height()), ha = 'center', va = 'center', \n",
    "                                   xytext = (0, 10), textcoords = 'offset points')\n",
    "    \n",
    "# x-axis settings\n",
    "plt.xlabel('\\nEmployment_Status', size = 25)\n",
    "plt.xticks(rotation=15, size = 20, color = 'b')\n",
    "\n",
    "# y-axis settings\n",
    "plt.ylabel('True / False Count\\n', size = 25)\n",
    "plt.yticks([0, 1e4, 2e4, 3e4, 4e4, 5e4], [0, '10k', '20k', '30k', '40k', '50k'], size = 20)\n",
    "\n",
    "# Adding legend\n",
    "plt.legend(fontsize = 18, loc='upper center')\n",
    "\n",
    "# set up the title\n",
    "plt.title('\\nHome Ownership by Employees\\n', size = 20)\n",
    "\n",
    "# Dsiplay the plot\n",
    "plt.show();"
   ]
  },
  {
   "cell_type": "markdown",
   "metadata": {},
   "source": [
    "I found that, as it can be clearly seen on the above bar chart, employees have a higher percentage of owning a home. All the other categories seem to indicate they do not own a home, most likely because they do not have fixed jobs. However, this might make Prosper think twice before they approve loans to control the risk of making the wrong decision."
   ]
  },
  {
   "cell_type": "markdown",
   "metadata": {},
   "source": [
    "    "
   ]
  },
  {
   "cell_type": "markdown",
   "metadata": {},
   "source": [
    "## <font color=\"blue\">Visualization #10</font>"
   ]
  },
  {
   "cell_type": "markdown",
   "metadata": {},
   "source": [
    "<a id='10'></a> \n",
    "**Loan Original Amount vs. Monthly Loan Payment**"
   ]
  },
  {
   "cell_type": "markdown",
   "metadata": {},
   "source": [
    "* Next, I will see if there are relationships between the two variables (Loan Original Amount vs. Monthly Loan Payment). Also, I will examine if the relationship is positive or negative."
   ]
  },
  {
   "cell_type": "code",
   "execution_count": 40,
   "metadata": {},
   "outputs": [
    {
     "data": {
      "image/png": "[encoded data removed]",
      "text/plain": [
       "<Figure size 864x576 with 1 Axes>"
      ]
     },
     "metadata": {
      "needs_background": "light"
     },
     "output_type": "display_data"
    }
   ],
   "source": [
    "#Set up the figure size \n",
    "plt.figure(figsize=[12, 8])\n",
    "\n",
    "# plot data\n",
    "sb.regplot(data = loans, x = 'Loan_Original_Amount', y = 'Monthly_Loan_Payment', truncate=False, x_jitter=0.5,\n",
    "                                                        scatter_kws={'alpha':1/25}, line_kws={\"color\": \"red\"});\n",
    "\n",
    "# x-axis settings\n",
    "plt.xlabel('\\nLoan Original Amount', size = 20)\n",
    "plt.xticks(size = 15)\n",
    "\n",
    "# y-axis settings\n",
    "plt.ylabel('Loan Payment\\n', size = 20)\n",
    "plt.yticks(size = 15)\n",
    "plt.yticks([0, 500, 1e3, 1.5e3, 2e3, 2.5e3], [0, 500, '1k', '1.5k', '2k', '2.5k'], size = 13)\n",
    "\n",
    "plt.title('The relationship between Loan Payment vs. Loan Amount\\n', size = 18, color = 'brown')\n",
    "\n",
    "plt.show()\n"
   ]
  },
  {
   "cell_type": "markdown",
   "metadata": {},
   "source": [
    "There is a strong relationship between the original amount and the monthly payment. The relationship is positive, which means that as the loan amount grows, so does the monthly payment."
   ]
  },
  {
   "cell_type": "markdown",
   "metadata": {},
   "source": [
    "  "
   ]
  },
  {
   "cell_type": "markdown",
   "metadata": {},
   "source": [
    "## <font color=\"blue\">Visualization #11</font>"
   ]
  },
  {
   "cell_type": "markdown",
   "metadata": {},
   "source": [
    "<a id='11'></a> \n",
    "**Loan Term & Borrower Rate**"
   ]
  },
  {
   "cell_type": "markdown",
   "metadata": {},
   "source": [
    "Now, I will have a look at the term and the rate of the loan to see if the rate increases as the term of the loan increases."
   ]
  },
  {
   "cell_type": "code",
   "execution_count": 41,
   "metadata": {},
   "outputs": [
    {
     "data": {
      "image/png": "[encoded data removed]",
      "text/plain": [
       "<Figure size 864x576 with 1 Axes>"
      ]
     },
     "metadata": {
      "needs_background": "light"
     },
     "output_type": "display_data"
    }
   ],
   "source": [
    "def Term_and_Borrower_Rate():\n",
    "    \n",
    "    # To convert \"Term\" to category, since there are only three types of terms (12, 36, 60),  no calculations are required.\n",
    "    loans['Term'] = loans['Term'].astype('category') \n",
    "    \n",
    "    # set up figure size and color\n",
    "    plt.figure(figsize=[12, 8]) \n",
    "    base_color = sb.color_palette()[0]\n",
    "    \n",
    "    #plot data\n",
    "    sb.violinplot(data=loans, x='Term', y='Borrower_Rate', color=base_color)\n",
    "    \n",
    "    #x-axis settings\n",
    "    plt.xlabel('\\nTerm (Months)', size = 20)\n",
    "    plt.xticks(size = 15)\n",
    "    \n",
    "    #y-axis settings\n",
    "    plt.ylabel('Rate\\n', size = 27)\n",
    "    plt.yticks(size=15)\n",
    "    \n",
    "    # Title of the chart\n",
    "    plt.title('\\nTerm and Borrower Rate\\n', size = 20)\n",
    "\n",
    "Term_and_Borrower_Rate()"
   ]
  },
  {
   "cell_type": "markdown",
   "metadata": {},
   "source": [
    "It appears that the rate is not affected by the length of the term. The maximum rate for a 12-month term is 0.3 percent, whereas the 36-month term has a higher rate than the 12-month term. However, the maximum rate differs little between the 36- and 60-month terms. "
   ]
  },
  {
   "cell_type": "markdown",
   "metadata": {},
   "source": [
    "  "
   ]
  },
  {
   "cell_type": "markdown",
   "metadata": {},
   "source": [
    "## <font color=\"blue\">Visualization #12</font>"
   ]
  },
  {
   "cell_type": "markdown",
   "metadata": {},
   "source": [
    "<a id='12'></a> \n",
    "**Loan Status & Total Prosper Loans**"
   ]
  },
  {
   "cell_type": "markdown",
   "metadata": {},
   "source": [
    "Here, I want to see if loan status is associated with a high number of loans."
   ]
  },
  {
   "cell_type": "code",
   "execution_count": 42,
   "metadata": {},
   "outputs": [],
   "source": [
    "# In order to reduce the loan status classifications, I have grouped the statutes based on their general classifications.\n",
    "# Payment issues will include all past-due, charged-off, and defaulted accounts.\n",
    "#Furthermore, \"FinalPaymentInProgress\" is grouped with \"current\" because the loan is not yet paid off. \n",
    "\n",
    "status_total  = loans.replace({'Loan_Status' : {'Chargedoff':'Payment issues','Defaulted':'Payment issues',\n",
    "                                                               'FinalPaymentInProgress':'Current', \n",
    "                                                               'Past Due (1-15 days)':'Payment issues',\n",
    "                                                               'Past Due (31-60 days)':'Payment issues', \n",
    "                                                               'Past Due (61-90 days)':'Payment issues',\n",
    "                                                               'Past Due (91-120 days)':'Payment issues',\n",
    "                                                               'Past Due (16-30 days)':'Payment issues',\n",
    "                                                               'Past Due (>120 days)':'Payment issues'}})"
   ]
  },
  {
   "cell_type": "code",
   "execution_count": 43,
   "metadata": {},
   "outputs": [
    {
     "data": {
      "image/png": "[encoded data removed]",
      "text/plain": [
       "<Figure size 936x576 with 1 Axes>"
      ]
     },
     "metadata": {
      "needs_background": "light"
     },
     "output_type": "display_data"
    }
   ],
   "source": [
    "def status_total_plot(): \n",
    "    \n",
    "    # set up figure size and color\n",
    "    plt.figure(figsize=[13, 8]) \n",
    "    base_color = sb.color_palette()[0]\n",
    "    \n",
    "    #plot data\n",
    "    sb.violinplot(data = status_total, x='Loan_Status', y='Total_Prosper_Loans', color=base_color)\n",
    "    \n",
    "    #x-axis settings\n",
    "    plt.xlabel('\\n(Loan Status)', size = 17)\n",
    "    plt.xticks(size = 15)\n",
    "    \n",
    "    #y-axis settings\n",
    "    plt.ylabel('Number of loans\\n', size = 17)\n",
    "    plt.yticks([0,1,2,3,4,5,6,7,8,9],size=15)\n",
    "    \n",
    "    # Title of the chart\n",
    "    plt.title('\\nLoan Status & Total Prosper Loans\\n', size = 20)\n",
    "\n",
    "status_total_plot()"
   ]
  },
  {
   "cell_type": "markdown",
   "metadata": {},
   "source": [
    "From the violin plot above, it seems that the number of loans did not affect the statues of the loan. All loan statuses indicate that they have nearly the same number of loans (only one loan). However, there is one interesting observation here, which is that the number of individuals who have payment issues is higher than the number of current and completed loans."
   ]
  },
  {
   "cell_type": "markdown",
   "metadata": {},
   "source": [
    "    "
   ]
  },
  {
   "cell_type": "markdown",
   "metadata": {},
   "source": [
    "## <font color=\"blue\">Visualization #13</font>"
   ]
  },
  {
   "cell_type": "markdown",
   "metadata": {},
   "source": [
    "<a id='13'></a> \n",
    "**Owning Home & Loan Reason**"
   ]
  },
  {
   "cell_type": "markdown",
   "metadata": {},
   "source": [
    "Next, I will determine whether or not applicants who applied for loans for the purpose of home improvement actually own a home."
   ]
  },
  {
   "cell_type": "code",
   "execution_count": 44,
   "metadata": {},
   "outputs": [
    {
     "data": {
      "image/png": "[encoded data removed]",
      "text/plain": [
       "<Figure size 1440x1080 with 1 Axes>"
      ]
     },
     "metadata": {
      "needs_background": "light"
     },
     "output_type": "display_data"
    }
   ],
   "source": [
    "def LoanReason_OwnHome():\n",
    "    \n",
    "        # set up fig size and position\n",
    "        plt.figure(figsize=[20, 15])\n",
    "        plt.subplots_adjust(left=0.10, bottom=0.3, right=0.65, top=0.7, wspace=0.2, hspace=0.2)\n",
    "\n",
    "        # I will choose only the \"home improvement\" reason as it is the reason of my investigation here.\n",
    "        loanReason = loans.loc[(loans['Loan_Reason'] == 'Home Improvement')]\n",
    "\n",
    "        #plotting the data\n",
    "        reason_countplot = sb.countplot(data = loanReason, x = 'Owning_home', hue = 'Loan_Reason')\n",
    "\n",
    "        # Add annotations to the plot using a for loop.\n",
    "        for reason in reason_countplot.patches:\n",
    "            reason_countplot.annotate(format(reason.get_height(),'.1f'), (reason.get_x() + reason.get_width() / 2,\n",
    "                                   reason.get_height()), ha = 'center', va = 'center', \n",
    "                                   xytext = (0, 10), textcoords = 'offset points')\n",
    "    \n",
    "        # x-axis settings\n",
    "        plt.xlabel('\\nOwnership of home', size = 25)\n",
    "        plt.xticks(size = 20)\n",
    "\n",
    "        # y-axis settings\n",
    "        plt.ylabel('True / False Count\\n', size = 25)\n",
    "        plt.yticks(size = 15)\n",
    "        \n",
    "        # Adding legend\n",
    "        plt.legend(fontsize = 15, loc='upper left')\n",
    "\n",
    "        # set up the title\n",
    "        plt.title('\\nLoan Reason (Home)\\n', size = 20)\n",
    "\n",
    "        # Dsiplay the plot\n",
    "        plt.show();\n",
    "\n",
    "LoanReason_OwnHome()"
   ]
  },
  {
   "cell_type": "markdown",
   "metadata": {},
   "source": [
    "Applicants who applied for a loan to improve their homes actually owned homes. The number of people who applied for a loan to improve their homes is 5199. On the other hand, the number of people who do not own a home and have applied for loans regardless of owning a home is only 2218."
   ]
  },
  {
   "cell_type": "markdown",
   "metadata": {},
   "source": [
    "    "
   ]
  },
  {
   "cell_type": "markdown",
   "metadata": {},
   "source": [
    "    "
   ]
  },
  {
   "cell_type": "markdown",
   "metadata": {},
   "source": [
    "### Talk about some of the relationships you observed in this part of the investigation. How did the feature(s) of interest vary with other features in the dataset?\n",
    "\n",
    "> I have found that the rate is not affected by the length of the term. \n",
    "\n",
    "\n",
    "### Did you observe any interesting relationships between the other features (not the main feature(s) of interest)?\n",
    "\n",
    "> There are a number of interesting relationships that I have discovered during my bivariate exploration. First, applicants who applied for home loans actually own homes, unlike the unemployed, who applied for loans for the same reason but do not own a home. Also, I explored the fact that the monthly payment of the loan is increasing as the loan amounts increase. This is an expected result since there is a fixed term that the loan needs to be paid into to avoid any payment issues. Finally, the employment status reveals an intriguing result: employed people are more likely to own their homes than retirees."
   ]
  },
  {
   "cell_type": "markdown",
   "metadata": {},
   "source": [
    "   ________"
   ]
  },
  {
   "cell_type": "markdown",
   "metadata": {},
   "source": [
    "<a id='Multivariate_Exploration'></a>\n",
    "# <font color=\"red\">Multivariate Exploration</font>\n",
    "\n",
    "\n"
   ]
  },
  {
   "cell_type": "markdown",
   "metadata": {},
   "source": [
    "In this section of the analysis, I will compare three variables at a time twice, using some visualisation Python libraries.\n",
    "So, the relationship between the three varieties will be closely examined."
   ]
  },
  {
   "cell_type": "markdown",
   "metadata": {},
   "source": [
    "## <font color=\"blue\">Visualization #14</font>   "
   ]
  },
  {
   "cell_type": "markdown",
   "metadata": {},
   "source": [
    "<a id='14'></a> \n",
    "**Borrower Rate vs. Loan Original Amount & Employment Status Duration**"
   ]
  },
  {
   "cell_type": "markdown",
   "metadata": {},
   "source": [
    "For this part, I want to find out what the relationship is between the loan amount and the rate. Also, I want to discover whether there is an effect employment duration on the rate of the loan."
   ]
  },
  {
   "cell_type": "code",
   "execution_count": 45,
   "metadata": {},
   "outputs": [],
   "source": [
    "loans = loans.reset_index(drop=True) "
   ]
  },
  {
   "cell_type": "code",
   "execution_count": 46,
   "metadata": {},
   "outputs": [],
   "source": [
    "# I have taken a random subset of 750 loans to reduce overplotting.\n",
    "np.random.seed(113707)\n",
    "sample = np.random.choice(loans.shape[0], 750, replace= False)\n",
    "loans_sample =  loans.loc[sample]"
   ]
  },
  {
   "cell_type": "code",
   "execution_count": 47,
   "metadata": {},
   "outputs": [],
   "source": [
    "# There are two outliers in the data sample above that could reduce the readability of the plots later on.\n",
    "# So I have decided to clear them out to make clean plots.\n",
    "loans_sample.loc[loans_sample['Loan_Original_Amount']> 27000];"
   ]
  },
  {
   "cell_type": "code",
   "execution_count": 48,
   "metadata": {},
   "outputs": [],
   "source": [
    "# Get rid of the outliers \n",
    "over_27 = loans_sample[loans_sample['Loan_Original_Amount'] > 27000].index\n",
    "loans_sample.drop(over_27 , inplace=True)"
   ]
  },
  {
   "cell_type": "code",
   "execution_count": 49,
   "metadata": {},
   "outputs": [
    {
     "data": {
      "image/png": "[encoded data removed]",
      "text/plain": [
       "<Figure size 1440x360 with 3 Axes>"
      ]
     },
     "metadata": {
      "needs_background": "light"
     },
     "output_type": "display_data"
    }
   ],
   "source": [
    "def rate_loan():\n",
    "    \n",
    "    # set up fig size\n",
    "    plt.figure(figsize = [20, 5])\n",
    "\n",
    "    # plot on left : Borrower Rate vs. Loan Amount and Employment Duration\n",
    "    # ploting data\n",
    "    plt.subplot(1, 2, 1)\n",
    "    plt.scatter(data = loans_sample, x = 'Loan_Original_Amount', y = 'Borrower_Rate',c = 'Employment_Status_Duration', \n",
    "            cmap = 'viridis_r', alpha=0.80) \n",
    "                                \n",
    "    # set up x-axis settings\n",
    "    plt.xlabel('\\nLoan Amount ($)', size = 18)\n",
    "    plt.xticks([0,3e3,6e3,9e3, 1.2e4, 1.5e4, 1.8e4, 2.1e4, 2.4e4, 2.7e4],\n",
    "           [0, '3k','6k', '9k', '12k', '15k', '18k', '21k', '24k', '27k'], size = 13)\n",
    "\n",
    "    #set up y-axis setting\n",
    "    plt.ylabel('Borrower Rate\\n', size = 18)\n",
    "    plt.yticks(size = 13)\n",
    "\n",
    "    plt.title('\\n Borrower Rate vs. Loan Amount and Employment Duration\\n', size = 15)\n",
    "    plt.colorbar(label = '\\nEmployment Duration (Years)');\n",
    "\n",
    "#ـــــــــــــــــــــــــــــــــــــــــــــــــــــــــــــــــــــــــــــــــــــــــــــــــــــــــــــــــــــــــــــــــــــــــــــــــــــــــــــــــــــــــــــــــــــــــــــــــــــــــــــــــــــــــــــــــــــــ\n",
    "\n",
    "    # Plot on right: specifically to show the relationship between rate and loan amount (showing the regression)\n",
    "    plt.subplot(1, 2, 2)\n",
    "    sb.regplot(data = loans_sample, x = 'Loan_Original_Amount', y = 'Borrower_Rate', x_jitter=0.5, fit_reg=True,\n",
    "           scatter_kws ={'s':loans_sample['Employment_Status_Duration']/2},line_kws={\"color\": \"red\"})\n",
    "\n",
    "    # set up x-axis settings\n",
    "    plt.xlabel('\\nLoan Amount ($)', size = 18)\n",
    "    plt.xticks([0,3e3,6e3,9e3, 1.2e4, 1.5e4, 1.8e4, 2.1e4, 2.4e4, 2.7e4],\n",
    "           [0, '3k','6k', '9k', '12k', '15k', '18k', '21k', '24k', '27k'], size = 13)\n",
    "\n",
    "    #set up y-axis setting\n",
    "    plt.ylabel('Borrower Rate\\n', size = 18)\n",
    "    plt.yticks(size = 13)\n",
    "\n",
    "    plt.title('\\n Borrower Rate vs. Loan Amount\\n', size = 15);\n",
    "\n",
    "    plt.show()\n",
    "    \n",
    "rate_loan()"
   ]
  },
  {
   "cell_type": "markdown",
   "metadata": {},
   "source": [
    "It has been found that the employment duration has not much affected the loan rate. However, there is a clear relationship between the loan amount and the loan rate. As the loan amount increases, the rate decreases. This is depicted on the left plot by the regression line, which has a negative slope. "
   ]
  },
  {
   "cell_type": "markdown",
   "metadata": {},
   "source": [
    "   "
   ]
  },
  {
   "cell_type": "markdown",
   "metadata": {},
   "source": [
    "## <font color=\"blue\">Visualization #15</font>"
   ]
  },
  {
   "cell_type": "markdown",
   "metadata": {},
   "source": [
    "<a id='15'></a> \n",
    "**Loan Status vs. Employment Status & Loan Term**"
   ]
  },
  {
   "cell_type": "markdown",
   "metadata": {},
   "source": [
    "* Finally, I would like to exploar the Distribution of Loan Status vs. Employment Status considering Loan Term"
   ]
  },
  {
   "cell_type": "code",
   "execution_count": 50,
   "metadata": {},
   "outputs": [],
   "source": [
    "# Regrouping of the loan status for the sample dataset.\n",
    "loans_sample = loans_sample.replace({'Loan_Status' : {'Chargedoff':'Payment issues','Defaulted':'Payment issues',\n",
    "                                                               'FinalPaymentInProgress':'Current', \n",
    "                                                               'Past Due (1-15 days)':'Payment issues',\n",
    "                                                               'Past Due (31-60 days)':'Payment issues', \n",
    "                                                               'Past Due (61-90 days)':'Payment issues',\n",
    "                                                               'Past Due (91-120 days)':'Payment issues',\n",
    "                                                               'Past Due (16-30 days)':'Payment issues',\n",
    "                                                               'Past Due (>120 days)':'Payment issues'}})"
   ]
  },
  {
   "cell_type": "code",
   "execution_count": 51,
   "metadata": {
    "scrolled": false
   },
   "outputs": [
    {
     "data": {
      "application/vnd.jupyter.widget-view+json": {
       "model_id": "0e3372d09e604d9da4a41f27f21431d0",
       "version_major": 2,
       "version_minor": 0
      },
      "text/plain": [
       "interactive(children=(FloatSlider(value=0.1, description='jitter', max=0.65, step=0.05), Output()), _dom_class…"
      ]
     },
     "metadata": {},
     "output_type": "display_data"
    }
   ],
   "source": [
    "def jitter_widget(jitter=0.1):\n",
    "    \n",
    "    #set up fig size and position\n",
    "    plt.figure(figsize=[12, 15])\n",
    "    plt.subplots_adjust(left=0.09, bottom=0.3, right=0.90, top=0.7, wspace=0.2, hspace=0.2)\n",
    "    \n",
    "    #Plot the data\n",
    "    sb.stripplot(data = loans_sample, x='Employment_Status', y='Loan_Status', hue = 'Term',\n",
    "            jitter = jitter, size=12, alpha = 0.5)\n",
    "    \n",
    "    #set up x-axis settings\n",
    "    plt.xlabel('\\nEmployment Status', size = 17)\n",
    "    plt.xticks(size = 15)\n",
    "    \n",
    "    #set up x-axis settings\n",
    "    plt.ylabel('Loan Status', size = 18)\n",
    "    plt.yticks(size = 15)\n",
    "    \n",
    "    plt.title('Distribution of Loan Status vs. Employment Status considering Loan Term\\n', size = 18)\n",
    "#calling out the function\n",
    "interactive(jitter_widget, jitter=(0, 0.65, 0.05))\n"
   ]
  },
  {
   "cell_type": "markdown",
   "metadata": {},
   "source": [
    "The most completed loans that had a 36-month term are paid by the employees. However, payment issues by the emplyees also had a notceble lans that are 36 moth payment plan. As shown in the plot above, the number of loans with a 60-month term is significantly lower than those with a 36-month term across all five job types. Unemployment and the retired have the fewest loans, as expected. "
   ]
  },
  {
   "cell_type": "markdown",
   "metadata": {},
   "source": [
    "  "
   ]
  },
  {
   "cell_type": "markdown",
   "metadata": {},
   "source": [
    "### Talk about some of the relationships you observed in this part of the investigation. Were there features that strengthened each other in terms of looking at your feature(s) of interest?\n",
    "\n",
    "- The employment duration has not much affected the loan rate\n",
    "\n",
    "### Were there any interesting or surprising interactions between features?\n",
    "\n",
    "- I explored that the rate of the loan is decreasing as the loan amounts increase. This surprised me a lot because I expected the opposite. Finally, the employment status reveals an intriguing result: employed people are more likely to own their homes than retirees.  "
   ]
  },
  {
   "cell_type": "markdown",
   "metadata": {},
   "source": [
    "  "
   ]
  },
  {
   "cell_type": "markdown",
   "metadata": {},
   "source": [
    "______________"
   ]
  },
  {
   "cell_type": "markdown",
   "metadata": {},
   "source": [
    "<a id='Conclusions'></a>\n",
    "# <font color=\"red\">Conclusions</font>"
   ]
  },
  {
   "cell_type": "markdown",
   "metadata": {},
   "source": [
    "- This analysis contained three different types of analysis, which are \"Univariate Exploration\", \"Bivariate Exploration\", and \"Multivariate Exploration\". \n",
    " \n",
    " \n",
    "- The main feature of interest was the `Borrwere Rate`. Borrower rate was visually explored and compared to other variables in the three types of visualisations. It has been found that the borrower rate distribution follows a normal distribution. Furthermore, the distribution is somewhat right-skewed. Nonetheless, the distribution features a lengthy peak near 0.32. Likewise, the rate is not affected by the length of the term.\n",
    " \n",
    " \n",
    "- In addition, there are features that hold interesting properties about this analysis, which is the main feature of interest. For example, the rate of interest decreases as the loan amount increases. Also, the monthly payment of the loan increases as the loan amount increases, which is expected behaviour given the trend in this sector. \n",
    " \n",
    " \n",
    "- Fainally, The majority of completed loans with a length of 36 months are repaid by workers. However, payment concerns by employees were also accompanied by 36-month payment plans. As seen in the above graph, the number of loans with a 60-month duration is much smaller than that of loans with a 36-month period across all five occupational categories. Unemployment and the retired have the fewest loans, as predicted."
   ]
  },
  {
   "cell_type": "markdown",
   "metadata": {},
   "source": [
    "_____________________"
   ]
  },
  {
   "cell_type": "markdown",
   "metadata": {},
   "source": [
    "<a id='Reference_List'></a>\n",
    "# <font color=\"red\">Reference List</font>\n"
   ]
  },
  {
   "cell_type": "markdown",
   "metadata": {},
   "source": [
    "1-\thttps://stackoverflow.com/questions/27060098/replacing-few-values-in-a-pandas-dataframe-column-with-another-value \n",
    "\n",
    "2-\thttps://www.statology.org/pandas-rename-columns/ \n",
    "\n",
    "3-\thttps://www.geeksforgeeks.org/how-to-get-column-names-in-pandas-dataframe/ \n",
    "\n",
    "4-\thttps://www.easytweaks.com/pandas-divide-column-value-another-sum/ \n",
    "\n",
    "5-\thttps://thispointer.com/python-pandas-how-to-drop-rows-in-dataframe-by-conditions-on-column-values/ \n",
    "\n",
    "6-\thttps://www.youtube.com/watch?v=m0y5uqU--YQ \n",
    "\n",
    "7-\thttps://www.statology.org/seaborn-barplot-width/ \n",
    "\n",
    "8-\thttps://www.youtube.com/watch?v=8U5h3EJuu8M \n",
    "\n",
    "9-\thttps://www.delftstack.com/howto/seaborn/size-of-seaborn-plot/ \n",
    "\n",
    "10-\thttps://www.tutorialspoint.com/how-to-add-percentages-on-top-of-bars-in-seaborn-using-matplotlib \n",
    "\n",
    "11-\thttps://gist.github.com/MosaabMuhammed/2a700d5908d081aa09f0386cb905fc53 \n",
    "\n",
    "12-\thttps://learn.udacity.com/nanodegrees/nd002-mcit/parts/cd0016/lessons/ls2235/concepts/4f098847-81dd-4301-8256-d472f8c99c07\n",
    "\n",
    "13-\thttps://seaborn.pydata.org/generated/seaborn.barplot.html \n",
    "\n",
    "14-\thttps://www.statology.org/seaborn-title/ \n",
    "\n",
    "15-\thttps://www.python-graph-gallery.com/191-custom-axis-on-matplotlib-chart \n",
    "\n",
    "16-\thttps://www.statology.org/set-x-axis-values-matplotlib/ \n",
    "\n",
    "17-\thttps://github.com/mwaskom/seaborn/issues/1582 \n",
    "\n",
    "18-\thttps://stackoverflow.com/questions/45616318/how-to-set-the-value-of-numpy-arange-from-the-given-data-in-scipy \t\n",
    "\n",
    "19-\thttps://towardsdatascience.com/10-examples-that-will-make-you-use-pandas-query-function-more-often-a8fb3e9361cb \n",
    "\n",
    "20-\thttps://gist.github.com/MosaabMuhammed/2a700d5908d081aa09f0386cb905fc53\n",
    "\n",
    "21-\thttps://www.statology.org/pandas-value_counts-percentage/ \n",
    "\n",
    "22-\thttps://towardsdatascience.com/8-seaborn-plots-for-univariate-exploratory-data-analysis-eda-in-python-9d280b6fe67f\n",
    "\n",
    "23-\thttps://www.geeksforgeeks.org/python-pandas-dataframe-quantile/ \n",
    "\n",
    "24-\thttps://www.youtube.com/watch?v=k7kt6Du1u24 \n",
    "\n",
    "25-\thttps://matplotlib.org/stable/api/_as_gen/matplotlib.pyplot.yscale.html \n",
    "\n",
    "26-\thttps://stackoverflow.com/questions/7125009/how-to-change-legend-fontsize-with-matplotlib-pyplot \n",
    "\n",
    "27-\thttps://re-thought.com/how-to-suppress-scientific-notation-in-pandas/  \n",
    "\n",
    "28-\thttps://pandas.pydata.org/docs/reference/api/pandas.DataFrame.astype.html \n",
    "\n",
    "29-\thttps://www.youtube.com/watch?v=zhUyC3tPVQQ \n",
    "\n",
    "\n",
    " \n",
    "\n"
   ]
  }
 ],
 "metadata": {
  "kernelspec": {
   "display_name": "Python 3 (ipykernel)",
   "language": "python",
   "name": "python3"
  },
  "language_info": {
   "codemirror_mode": {
    "name": "ipython",
    "version": 3
   },
   "file_extension": ".py",
   "mimetype": "text/x-python",
   "name": "python",
   "nbconvert_exporter": "python",
   "pygments_lexer": "ipython3",
   "version": "3.9.12"
  }
 },
 "nbformat": 4,
 "nbformat_minor": 2
}
